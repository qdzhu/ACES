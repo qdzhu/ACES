{
 "cells": [
  {
   "cell_type": "markdown",
   "metadata": {},
   "source": [
    "# Exploratory Activity 6: Analytical Chemistry I"
   ]
  },
  {
   "cell_type": "markdown",
   "metadata": {},
   "source": [
    "**Specrophotometry Lab simulation procedures** \n",
    "\n",
    "1. Go to https://web.mst.edu/~gbert/ColorScan/AColor.htm. \n",
    "2. Fill the squirt bottle with a 10:90 solution of Red #40:DI water by adjusting the arrows. Fill a cuvette by clicking on the bottle. Measure the absorbance spectrum by clicking on the filled cuvette. \n",
    "3. Repeat step 2 for Blue #1.\n",
    "4. Click on \"view graph of Absorbance\" to see the absorbance spectrum of each dye. Pick two wavelengths at least 50 nm apart where both dyes have non-zero absorptions. \n",
    "5. Contruct a calibration curve with 5-10 different concentrations of Red #40. Calculate the concentration in ppm and record the absorbance each of the two selected wavelengths. You can see absorbance data by clicking on \"view data for Absorbance\". Note you will only be able to see three concentrations at a time before dumping your data. \n",
    "6. Repeat step 5 for Blue #1."
   ]
  },
  {
   "cell_type": "markdown",
   "metadata": {},
   "source": [
    "**Question 6.1.1** Recall from lecture that the absorbance is related to the molarity of an absorbing substance by Beer's law: A = $\\epsilon$*c* *l*, where *c* is the concentration in mol/L, *l* is the pathlength in cm, and $\\epsilon$ is the molar absorptivity. What are the units of $\\epsilon$?"
   ]
  },
  {
   "cell_type": "raw",
   "metadata": {},
   "source": [
    "[Enter your answer here.]"
   ]
  },
  {
   "cell_type": "markdown",
   "metadata": {},
   "source": [
    "**Question 6.1.2** Convert your measurements in ppm for the Red #40 solution to molarity (molar mass of Red #40 is 496.42 g/mol). 1 ppm is equal to 1 mg/L. "
   ]
  },
  {
   "cell_type": "code",
   "execution_count": null,
   "metadata": {},
   "outputs": [],
   "source": [
    "## ENTER CODE FOR CALCULATING MOLARITY "
   ]
  },
  {
   "cell_type": "markdown",
   "metadata": {},
   "source": [
    "**Question 6.2** Input the data you obtained into the code below. Then run the code to plot the calibration curves of absorbance vs. molarity for both wavelengths. The code also adds best fit lines to the plot using a linear regression technique similar to that used in Exploratory Activity 2."
   ]
  },
  {
   "cell_type": "code",
   "execution_count": null,
   "metadata": {},
   "outputs": [],
   "source": [
    "# first import the necessary libraries\n",
    "import matplotlib.pyplot as plt\n",
    "import numpy as np\n",
    "\n",
    "## ENTER YOUR MOLARITY AND MEASURED ABSORBANCES HERE\n",
    "molarity = []\n",
    "Abs1 = []\n",
    "Abs2 = []\n",
    "\n",
    "# using subplots again allows us to easily plot additional information in the same plot\n",
    "fig, ax = plt.subplots(num=None, facecolor='w', edgecolor='k')\n",
    "\n",
    "# compare molarity and absorbance variables using a scatter plot\n",
    "ax.scatter(molarity, Abs1)\n",
    "ax.scatter(molarity, Abs2)\n",
    "\n",
    "# find the lines of best fit through the data with polyfit\n",
    "# line is an array containing b (the y-intercept) and m (the slope)\n",
    "# cov is the covariance matrix, which will be used in the next question\n",
    "line1, cov1 = np.polyfit(molarity, Abs1, 1, cov=True)\n",
    "line2, cov2 = np.polyfit(molarity, Abs2, 1, cov=True)\n",
    "\n",
    "# add the lines of best fit to the scatter plot\n",
    "ax.plot(molarity, line1[1] + [conc * line1[0] for conc in molarity], '-')\n",
    "ax.plot(molarity, line2[1] + [conc * line2[0] for conc in molarity], '-')"
   ]
  },
  {
   "cell_type": "markdown",
   "metadata": {},
   "source": [
    "**Question 6.3** Based on the calibration slopes derived above, what is the molar absorptivity of Red \\#40 at each of the wavelengths of interest?"
   ]
  },
  {
   "cell_type": "code",
   "execution_count": null,
   "metadata": {},
   "outputs": [],
   "source": [
    "## ENTER THE MOLAR ABSORPTIVITIES (EPSILON) HERE\n",
    "epsilon1 = \n",
    "epsilon2 = "
   ]
  },
  {
   "cell_type": "markdown",
   "metadata": {},
   "source": [
    "**Question 6.4** The code below uses the covariance matrices of the best fit lines to calculate the standard deviation of the slopes, which could be interpreted as the error in the molar absorptivities. "
   ]
  },
  {
   "cell_type": "code",
   "execution_count": null,
   "metadata": {},
   "outputs": [],
   "source": [
    "# take the square root of the first element of the first row of each matrix\n",
    "stdev1 = np.sqrt(cov1[0][0])\n",
    "stdev2 = np.sqrt(cov2[0][0])\n",
    "\n",
    "# display the standard deviations\n",
    "print(stdev1, stdev2)"
   ]
  },
  {
   "cell_type": "raw",
   "metadata": {},
   "source": [
    "[Enter your answer here.]"
   ]
  },
  {
   "cell_type": "markdown",
   "metadata": {},
   "source": [
    "**Question 6.5** Repeat the above procedure and determine the molar absorptivities and their standard deviations for Blue \\#1 (molar mass 791.84 g/mol). "
   ]
  },
  {
   "cell_type": "code",
   "execution_count": 1,
   "metadata": {},
   "outputs": [],
   "source": [
    "## CONVERT FROM PPM TO MOLARITY\n",
    "\n",
    "## FIND LINES OF BEST FIT AND THE COVARIANCE MATRIX\n",
    "\n",
    "## PLOT DATA WITH LINES OF BEST FIT\n",
    "\n",
    "## FIND MOLAR ABSROPTIVITIES AND THEI STANDARD DEVIATIONS"
   ]
  },
  {
   "cell_type": "markdown",
   "metadata": {},
   "source": [
    "**Question 6.6** Use your answers to Questions 6.3-5 to calculate the concentrations (and uncertainties!) of Red #40 and Blue #1 in an unknown sports drink sample. Imagine that for your shorter wavelength you measure an absorbance of 0.74 and for your longer wavelength you measure an absorbance of 0.47. You may assume for the purposes of this question that the standard deviations from the covariance matrices give reasonable estimates of the uncertainties in the molar absorptivities and that the absorbances are known to arbitrary precision.\n",
    "\n",
    "Check your answers with your partner and intructor."
   ]
  },
  {
   "cell_type": "code",
   "execution_count": null,
   "metadata": {},
   "outputs": [],
   "source": [
    "## ENTER CODE HERE AS NEEDED TO AID YOUR CALCULATIONS"
   ]
  },
  {
   "cell_type": "markdown",
   "metadata": {},
   "source": [
    "**Question 6.7** Why does the simulation use a cuvette filled with water and not an empty cuvette for blanking the spectrophotometer? "
   ]
  },
  {
   "cell_type": "raw",
   "metadata": {},
   "source": [
    "[Enter your answer here.]"
   ]
  },
  {
   "cell_type": "markdown",
   "metadata": {},
   "source": [
    "**Question 6.8** Atmospheric scientists rarely worry about dye concentrations in sports drinks. How might the concepts in this experiment be relevant to atmospheric science? Be specific.\n"
   ]
  },
  {
   "cell_type": "raw",
   "metadata": {},
   "source": [
    "[Enter your answer here.]"
   ]
  }
 ],
 "metadata": {
  "kernelspec": {
   "display_name": "Python 3",
   "language": "python",
   "name": "python3"
  },
  "language_info": {
   "codemirror_mode": {
    "name": "ipython",
    "version": 3
   },
   "file_extension": ".py",
   "mimetype": "text/x-python",
   "name": "python",
   "nbconvert_exporter": "python",
   "pygments_lexer": "ipython3",
   "version": "3.7.6"
  }
 },
 "nbformat": 4,
 "nbformat_minor": 2
}
