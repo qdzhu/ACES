{
 "cells": [
  {
   "cell_type": "code",
   "execution_count": 34,
   "id": "8d28b20f",
   "metadata": {},
   "outputs": [
    {
     "name": "stdout",
     "output_type": "stream",
     "text": [
      "Index(['timestamp', 'quality_flag', 'NO2_trop_col', 'lon', 'lat'], dtype='object')\n",
      "Index(['timestamp', 'quality_flag', 'NO2_trop_col', 'lon', 'lat'], dtype='object')\n",
      "Index(['timestamp', 'quality_flag', 'NO2_trop_col', 'lon', 'lat'], dtype='object')\n",
      "Index(['timestamp', 'quality_flag', 'NO2_trop_col', 'lon', 'lat'], dtype='object')\n"
     ]
    },
    {
     "data": {
      "text/html": [
       "<div>\n",
       "<style scoped>\n",
       "    .dataframe tbody tr th:only-of-type {\n",
       "        vertical-align: middle;\n",
       "    }\n",
       "\n",
       "    .dataframe tbody tr th {\n",
       "        vertical-align: top;\n",
       "    }\n",
       "\n",
       "    .dataframe thead th {\n",
       "        text-align: right;\n",
       "    }\n",
       "</style>\n",
       "<table border=\"1\" class=\"dataframe\">\n",
       "  <thead>\n",
       "    <tr style=\"text-align: right;\">\n",
       "      <th></th>\n",
       "      <th>timestamp</th>\n",
       "      <th>quality_flag</th>\n",
       "      <th>NO2_trop_col</th>\n",
       "      <th>lon</th>\n",
       "      <th>lat</th>\n",
       "    </tr>\n",
       "  </thead>\n",
       "  <tbody>\n",
       "    <tr>\n",
       "      <th>0</th>\n",
       "      <td>2019-09-11 16:03:43</td>\n",
       "      <td>1</td>\n",
       "      <td>0.51143</td>\n",
       "      <td>-72.9029</td>\n",
       "      <td>41.3014</td>\n",
       "    </tr>\n",
       "    <tr>\n",
       "      <th>1</th>\n",
       "      <td>2019-09-11 16:12:51</td>\n",
       "      <td>1</td>\n",
       "      <td>0.55913</td>\n",
       "      <td>-72.9029</td>\n",
       "      <td>41.3014</td>\n",
       "    </tr>\n",
       "    <tr>\n",
       "      <th>2</th>\n",
       "      <td>2019-09-11 16:21:55</td>\n",
       "      <td>1</td>\n",
       "      <td>0.48489</td>\n",
       "      <td>-72.9029</td>\n",
       "      <td>41.3014</td>\n",
       "    </tr>\n",
       "    <tr>\n",
       "      <th>3</th>\n",
       "      <td>2019-09-11 16:31:02</td>\n",
       "      <td>0</td>\n",
       "      <td>0.52629</td>\n",
       "      <td>-72.9029</td>\n",
       "      <td>41.3014</td>\n",
       "    </tr>\n",
       "    <tr>\n",
       "      <th>4</th>\n",
       "      <td>2019-09-11 16:42:19</td>\n",
       "      <td>0</td>\n",
       "      <td>0.43991</td>\n",
       "      <td>-72.9029</td>\n",
       "      <td>41.3014</td>\n",
       "    </tr>\n",
       "    <tr>\n",
       "      <th>...</th>\n",
       "      <td>...</td>\n",
       "      <td>...</td>\n",
       "      <td>...</td>\n",
       "      <td>...</td>\n",
       "      <td>...</td>\n",
       "    </tr>\n",
       "    <tr>\n",
       "      <th>4238</th>\n",
       "      <td>2019-12-15 18:44:29</td>\n",
       "      <td>0</td>\n",
       "      <td>0.15882</td>\n",
       "      <td>-72.9029</td>\n",
       "      <td>41.3014</td>\n",
       "    </tr>\n",
       "    <tr>\n",
       "      <th>4239</th>\n",
       "      <td>2019-12-15 18:55:04</td>\n",
       "      <td>0</td>\n",
       "      <td>0.16065</td>\n",
       "      <td>-72.9029</td>\n",
       "      <td>41.3014</td>\n",
       "    </tr>\n",
       "    <tr>\n",
       "      <th>4240</th>\n",
       "      <td>2019-12-15 19:08:04</td>\n",
       "      <td>0</td>\n",
       "      <td>0.13071</td>\n",
       "      <td>-72.9029</td>\n",
       "      <td>41.3014</td>\n",
       "    </tr>\n",
       "    <tr>\n",
       "      <th>4241</th>\n",
       "      <td>2019-12-15 19:26:43</td>\n",
       "      <td>2</td>\n",
       "      <td>0.15808</td>\n",
       "      <td>-72.9029</td>\n",
       "      <td>41.3014</td>\n",
       "    </tr>\n",
       "    <tr>\n",
       "      <th>4242</th>\n",
       "      <td>2019-12-15 19:37:36</td>\n",
       "      <td>1</td>\n",
       "      <td>0.18351</td>\n",
       "      <td>-72.9029</td>\n",
       "      <td>41.3014</td>\n",
       "    </tr>\n",
       "  </tbody>\n",
       "</table>\n",
       "<p>4243 rows × 5 columns</p>\n",
       "</div>"
      ],
      "text/plain": [
       "               timestamp quality_flag  NO2_trop_col      lon      lat\n",
       "0    2019-09-11 16:03:43            1       0.51143 -72.9029  41.3014\n",
       "1    2019-09-11 16:12:51            1       0.55913 -72.9029  41.3014\n",
       "2    2019-09-11 16:21:55            1       0.48489 -72.9029  41.3014\n",
       "3    2019-09-11 16:31:02            0       0.52629 -72.9029  41.3014\n",
       "4    2019-09-11 16:42:19            0       0.43991 -72.9029  41.3014\n",
       "...                  ...          ...           ...      ...      ...\n",
       "4238 2019-12-15 18:44:29            0       0.15882 -72.9029  41.3014\n",
       "4239 2019-12-15 18:55:04            0       0.16065 -72.9029  41.3014\n",
       "4240 2019-12-15 19:08:04            0       0.13071 -72.9029  41.3014\n",
       "4241 2019-12-15 19:26:43            2       0.15808 -72.9029  41.3014\n",
       "4242 2019-12-15 19:37:36            1       0.18351 -72.9029  41.3014\n",
       "\n",
       "[4243 rows x 5 columns]"
      ]
     },
     "execution_count": 34,
     "metadata": {},
     "output_type": "execute_result"
    }
   ],
   "source": [
    "import numpy as np\n",
    "import pandas as pd\n",
    "from pandas.core.frame import DataFrame\n",
    "def get_pandora_data(filename):\n",
    "    fp=open(filename)\n",
    "    lines = fp.readlines()\n",
    "    line_list = []\n",
    "    lat_raw = lines[14]\n",
    "    lon_raw = lines[15]\n",
    "    lat = float(lat_raw.split()[-1])\n",
    "    lon = float(lon_raw.split()[-1])\n",
    "    del lines[0:92]\n",
    "    for i in lines:\n",
    "        line = i.split()\n",
    "        line[19] = float(line[19])\n",
    "        if len(line[0])<=16:\n",
    "            line_list.append(line)\n",
    "        elif len(line[0])>16:\n",
    "            line[0] = line[0][0:15]+'Z'\n",
    "    line_df = DataFrame(line_list)\n",
    "    line_df = line_df[[0,13,19]]\n",
    "    line_df['timestamp'] = pd.to_datetime(line_df[0],format='%Y%m%dT%H%M%SZ',errors = 'coerce')\n",
    "    line_df = line_df[(line_df['timestamp']>= pd.to_datetime('20190101'))&(line_df['timestamp']<=pd.to_datetime('201912312359'))]\n",
    "    line_df['quality_flag'] = line_df[13]\n",
    "    line_df['NO2_trop_col'] = line_df[19]\n",
    "    line_df = line_df[['timestamp','quality_flag','NO2_trop_col']]\n",
    "    line_df['lon'] = lon\n",
    "    line_df['lat'] = lat\n",
    "    for value in line_df['NO2_trop_col']:\n",
    "        if value<0:\n",
    "            line_df =line_df.replace({'NO2_trop_col':{value:np.NaN}})\n",
    "    return line_df\n",
    "BoulderCO = get_pandora_data('Pandora57s1_BoulderCO_L2Trop_rnvh1p1-7.txt')\n",
    "print(BoulderCO.keys())\n",
    "GreenbeltMD = get_pandora_data('Pandora32s1_GreenbeltMD_L2Trop_rnvh1p1-7.txt')\n",
    "print(GreenbeltMD.keys())\n",
    "MaunaLoaHI = get_pandora_data('Pandora59s1_MaunaLoaHI_L2Trop_rnvh1p1-7.txt')\n",
    "print(MaunaLoaHI.keys())\n",
    "NewHavenCT = get_pandora_data('Pandora64s1_NewHavenCT_L2Trop_rnvh1p1-7.txt')\n",
    "print(NewHavenCT.keys())\n",
    "NO2_col_NHCT = NewHavenCT['NO2_trop_col']\n",
    "time_NHCT = NewHavenCT['timestamp']\n",
    "NewHavenCT"
   ]
  },
  {
   "cell_type": "markdown",
   "id": "72a31697",
   "metadata": {},
   "source": [
    "I've found the problem, it's because pandas can't recognize scientific notation. I changed the type of the numbers into float and it worked out."
   ]
  },
  {
   "cell_type": "code",
   "execution_count": 35,
   "id": "76e61115",
   "metadata": {},
   "outputs": [
    {
     "data": {
      "image/png": "[encoded data removed]",
      "text/plain": [
       "<Figure size 432x288 with 1 Axes>"
      ]
     },
     "metadata": {},
     "output_type": "display_data"
    }
   ],
   "source": [
    "import matplotlib.pyplot as plt\n",
    "fig, ax = plt.subplots(num=None, facecolor='w', edgecolor='k')\n",
    "ax.plot(time_NHCT,NO2_col_NHCT,linewidth=.5)\n",
    "plt.show()"
   ]
  },
  {
   "cell_type": "code",
   "execution_count": 36,
   "id": "8ad540a6",
   "metadata": {},
   "outputs": [
    {
     "data": {
      "text/plain": [
       "(array([2.111e+03, 1.299e+03, 4.880e+02, 1.900e+02, 9.500e+01, 2.000e+01,\n",
       "        1.000e+01, 9.000e+00, 4.000e+00, 1.000e+00]),\n",
       " array([4.98040e-58, 1.45180e-01, 2.90360e-01, 4.35540e-01, 5.80720e-01,\n",
       "        7.25900e-01, 8.71080e-01, 1.01626e+00, 1.16144e+00, 1.30662e+00,\n",
       "        1.45180e+00]),\n",
       " <BarContainer object of 10 artists>)"
      ]
     },
     "execution_count": 36,
     "metadata": {},
     "output_type": "execute_result"
    },
    {
     "data": {
      "image/png": "[encoded data removed]",
      "text/plain": [
       "<Figure size 432x288 with 1 Axes>"
      ]
     },
     "metadata": {
      "needs_background": "light"
     },
     "output_type": "display_data"
    }
   ],
   "source": [
    "plt.hist(NewHavenCT['NO2_trop_col'])"
   ]
  },
  {
   "cell_type": "code",
   "execution_count": 37,
   "id": "5ee1e83f",
   "metadata": {},
   "outputs": [
    {
     "data": {
      "text/plain": [
       "(4243, 5)"
      ]
     },
     "execution_count": 37,
     "metadata": {},
     "output_type": "execute_result"
    }
   ],
   "source": [
    "NewHavenCT.shape"
   ]
  },
  {
   "cell_type": "code",
   "execution_count": null,
   "id": "d6275287",
   "metadata": {},
   "outputs": [],
   "source": []
  },
  {
   "cell_type": "code",
   "execution_count": null,
   "id": "de3a79e7",
   "metadata": {},
   "outputs": [],
   "source": []
  }
 ],
 "metadata": {
  "kernelspec": {
   "display_name": "Python 3 (ipykernel)",
   "language": "python",
   "name": "python3"
  },
  "language_info": {
   "codemirror_mode": {
    "name": "ipython",
    "version": 3
   },
   "file_extension": ".py",
   "mimetype": "text/x-python",
   "name": "python",
   "nbconvert_exporter": "python",
   "pygments_lexer": "ipython3",
   "version": "3.8.0"
  }
 },
 "nbformat": 4,
 "nbformat_minor": 5
}
