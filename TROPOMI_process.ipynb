{
 "cells": [
  {
   "cell_type": "code",
   "execution_count": 97,
   "id": "34a0e530",
   "metadata": {},
   "outputs": [
    {
     "name": "stdout",
     "output_type": "stream",
     "text": [
      "[['nan' 'nan' 'nan' 'nan' 'nan' 'nan']\n",
      " ['nan' 'nan' 'nan' 'nan' 'nan' 'nan']\n",
      " ['-105.2418' '39.986176' '2.4904359e-05' '1.342167e-05' 'mol m-2'\n",
      "  '2019-06-07T18:56:56.014000Z']\n",
      " ...\n",
      " ['-105.23735' '39.988377' '8.214416e-05' '5.2048457e-05' 'mol m-2'\n",
      "  '2019-04-12T19:46:50.597000Z']\n",
      " ['nan' 'nan' 'nan' 'nan' 'nan' 'nan']\n",
      " ['nan' 'nan' 'nan' 'nan' 'nan' 'nan']]\n"
     ]
    }
   ],
   "source": [
    "import numpy as np\n",
    "import pandas as pd\n",
    "boulder = np.load(\"Boulder3.npy\",allow_pickle = True)\n",
    "Greenbelt = np.load(\"Greenbelt.npy\",allow_pickle = True)\n",
    "print(boulder)"
   ]
  },
  {
   "cell_type": "code",
   "execution_count": 98,
   "id": "5e9326ca",
   "metadata": {},
   "outputs": [],
   "source": [
    "def get_df(city):\n",
    "    NO2_trop_col = []\n",
    "    time = []\n",
    "    uncertainty = []\n",
    "    lat = []\n",
    "    lon = []\n",
    "    for i in city:\n",
    "        if i[0] != i[1]:\n",
    "            time.append(i[5])\n",
    "            NO2_trop_col.append(float(i[2])*6.02e19)\n",
    "            uncertainty.append(float(i[3])*6.02e19)\n",
    "            lat.append(float(i[1]))\n",
    "            lon.append(float(i[0]))\n",
    "        else:\n",
    "            pass\n",
    "    city_df = pd.DataFrame({'timestamp':time,'NO2_trop_col':NO2_trop_col,'uncertainty':uncertainty,'lon':lon,'lat':lat})\n",
    "    city_df['timestamp'] = pd.to_datetime(city_df['timestamp'], format='%Y-%m-%dT%H:%M:%S.%fZ')\n",
    "    city_df = city_df.sort_values(by = 'timestamp')\n",
    "    city_df = city_df[(city_df['timestamp']>='20190101')&(city_df['timestamp']<='201912312359')]\n",
    "    return city_df"
   ]
  },
  {
   "cell_type": "code",
   "execution_count": 99,
   "id": "41780f23",
   "metadata": {},
   "outputs": [],
   "source": [
    "def get_df2(city):\n",
    "    NO2_trop_col = []\n",
    "    time = []\n",
    "    uncertainty = []\n",
    "    lat = []\n",
    "    lon = []\n",
    "    for i in city:\n",
    "        if i[0] != i[1]:\n",
    "            time.append(i[4])\n",
    "            NO2_trop_col.append(float(i[2])*6.02e19)\n",
    "            uncertainty.append(float(i[3])*6.02e19)\n",
    "            lat.append(float(i[1]))\n",
    "            lon.append(float(i[0]))\n",
    "        else:\n",
    "            pass\n",
    "    city_df = pd.DataFrame({'timestamp':time,'NO2_trop_col':NO2_trop_col,'uncertainty':uncertainty,'lon':lon,'lat':lat})\n",
    "    city_df['timestamp'] = pd.to_datetime(city_df['timestamp'], format='%Y-%m-%dT%H:%M:%S.%fZ')\n",
    "    city_df = city_df.sort_values(by = 'timestamp')\n",
    "    city_df = city_df[(city_df['timestamp']>='20190101')&(city_df['timestamp']<='201912312359')]\n",
    "    return city_df"
   ]
  },
  {
   "cell_type": "code",
   "execution_count": 100,
   "id": "777c8f24",
   "metadata": {},
   "outputs": [],
   "source": [
    "Boulder_df = get_df(boulder)\n",
    "Greenbelt_df = get_df2(Greenbelt)"
   ]
  },
  {
   "cell_type": "code",
   "execution_count": 101,
   "id": "89b12c5e",
   "metadata": {},
   "outputs": [
    {
     "data": {
      "text/html": [
       "<div>\n",
       "<style scoped>\n",
       "    .dataframe tbody tr th:only-of-type {\n",
       "        vertical-align: middle;\n",
       "    }\n",
       "\n",
       "    .dataframe tbody tr th {\n",
       "        vertical-align: top;\n",
       "    }\n",
       "\n",
       "    .dataframe thead th {\n",
       "        text-align: right;\n",
       "    }\n",
       "</style>\n",
       "<table border=\"1\" class=\"dataframe\">\n",
       "  <thead>\n",
       "    <tr style=\"text-align: right;\">\n",
       "      <th></th>\n",
       "      <th>timestamp</th>\n",
       "      <th>NO2_trop_col</th>\n",
       "      <th>uncertainty</th>\n",
       "      <th>lon</th>\n",
       "      <th>lat</th>\n",
       "    </tr>\n",
       "  </thead>\n",
       "  <tbody>\n",
       "    <tr>\n",
       "      <th>77</th>\n",
       "      <td>2019-01-02 17:40:22.949000</td>\n",
       "      <td>1.055122e+16</td>\n",
       "      <td>1.067346e+16</td>\n",
       "      <td>-76.881090</td>\n",
       "      <td>38.993584</td>\n",
       "    </tr>\n",
       "    <tr>\n",
       "      <th>144</th>\n",
       "      <td>2019-01-03 19:02:03.161999</td>\n",
       "      <td>8.156537e+14</td>\n",
       "      <td>3.260666e+15</td>\n",
       "      <td>-76.892860</td>\n",
       "      <td>38.976795</td>\n",
       "    </tr>\n",
       "    <tr>\n",
       "      <th>3</th>\n",
       "      <td>2019-01-04 17:03:20.366000</td>\n",
       "      <td>7.120531e+15</td>\n",
       "      <td>1.086683e+16</td>\n",
       "      <td>-76.694180</td>\n",
       "      <td>39.086174</td>\n",
       "    </tr>\n",
       "    <tr>\n",
       "      <th>18</th>\n",
       "      <td>2019-01-06 18:05:15.591999</td>\n",
       "      <td>2.712973e+15</td>\n",
       "      <td>8.696199e+14</td>\n",
       "      <td>-76.836100</td>\n",
       "      <td>38.975426</td>\n",
       "    </tr>\n",
       "    <tr>\n",
       "      <th>99</th>\n",
       "      <td>2019-01-08 19:08:24.889999</td>\n",
       "      <td>6.483286e+15</td>\n",
       "      <td>2.655602e+15</td>\n",
       "      <td>-76.813156</td>\n",
       "      <td>39.011390</td>\n",
       "    </tr>\n",
       "    <tr>\n",
       "      <th>...</th>\n",
       "      <td>...</td>\n",
       "      <td>...</td>\n",
       "      <td>...</td>\n",
       "      <td>...</td>\n",
       "      <td>...</td>\n",
       "    </tr>\n",
       "    <tr>\n",
       "      <th>43</th>\n",
       "      <td>2019-12-23 18:23:46.678000</td>\n",
       "      <td>9.176318e+15</td>\n",
       "      <td>2.803719e+15</td>\n",
       "      <td>-76.839030</td>\n",
       "      <td>38.990200</td>\n",
       "    </tr>\n",
       "    <tr>\n",
       "      <th>45</th>\n",
       "      <td>2019-12-24 18:04:57.826000</td>\n",
       "      <td>5.497816e+15</td>\n",
       "      <td>1.678176e+15</td>\n",
       "      <td>-76.845430</td>\n",
       "      <td>38.985226</td>\n",
       "    </tr>\n",
       "    <tr>\n",
       "      <th>138</th>\n",
       "      <td>2019-12-26 19:08:06.705000</td>\n",
       "      <td>8.069569e+15</td>\n",
       "      <td>2.825104e+15</td>\n",
       "      <td>-76.870040</td>\n",
       "      <td>38.981583</td>\n",
       "    </tr>\n",
       "    <tr>\n",
       "      <th>173</th>\n",
       "      <td>2019-12-27 18:49:03.931000</td>\n",
       "      <td>7.595226e+15</td>\n",
       "      <td>3.776196e+15</td>\n",
       "      <td>-76.836044</td>\n",
       "      <td>39.010136</td>\n",
       "    </tr>\n",
       "    <tr>\n",
       "      <th>12</th>\n",
       "      <td>2019-12-28 18:30:05.075000</td>\n",
       "      <td>1.202237e+15</td>\n",
       "      <td>1.062165e+15</td>\n",
       "      <td>-76.860290</td>\n",
       "      <td>38.974533</td>\n",
       "    </tr>\n",
       "  </tbody>\n",
       "</table>\n",
       "<p>230 rows × 5 columns</p>\n",
       "</div>"
      ],
      "text/plain": [
       "                     timestamp  NO2_trop_col   uncertainty        lon  \\\n",
       "77  2019-01-02 17:40:22.949000  1.055122e+16  1.067346e+16 -76.881090   \n",
       "144 2019-01-03 19:02:03.161999  8.156537e+14  3.260666e+15 -76.892860   \n",
       "3   2019-01-04 17:03:20.366000  7.120531e+15  1.086683e+16 -76.694180   \n",
       "18  2019-01-06 18:05:15.591999  2.712973e+15  8.696199e+14 -76.836100   \n",
       "99  2019-01-08 19:08:24.889999  6.483286e+15  2.655602e+15 -76.813156   \n",
       "..                         ...           ...           ...        ...   \n",
       "43  2019-12-23 18:23:46.678000  9.176318e+15  2.803719e+15 -76.839030   \n",
       "45  2019-12-24 18:04:57.826000  5.497816e+15  1.678176e+15 -76.845430   \n",
       "138 2019-12-26 19:08:06.705000  8.069569e+15  2.825104e+15 -76.870040   \n",
       "173 2019-12-27 18:49:03.931000  7.595226e+15  3.776196e+15 -76.836044   \n",
       "12  2019-12-28 18:30:05.075000  1.202237e+15  1.062165e+15 -76.860290   \n",
       "\n",
       "           lat  \n",
       "77   38.993584  \n",
       "144  38.976795  \n",
       "3    39.086174  \n",
       "18   38.975426  \n",
       "99   39.011390  \n",
       "..         ...  \n",
       "43   38.990200  \n",
       "45   38.985226  \n",
       "138  38.981583  \n",
       "173  39.010136  \n",
       "12   38.974533  \n",
       "\n",
       "[230 rows x 5 columns]"
      ]
     },
     "execution_count": 101,
     "metadata": {},
     "output_type": "execute_result"
    }
   ],
   "source": [
    "Greenbelt_df"
   ]
  },
  {
   "cell_type": "code",
   "execution_count": 126,
   "id": "2f145413",
   "metadata": {},
   "outputs": [],
   "source": [
    "import matplotlib.pyplot as plt\n",
    "def plot_errorbar(df):\n",
    "    x = df['timestamp']\n",
    "    y = df['NO2_trop_col']\n",
    "    yerr = df['uncertainty']\n",
    "    fig, ax = plt.subplots()\n",
    "    ax.errorbar(x, y,yerr=yerr,ecolor='y')\n",
    "    plt.xlabel(xlabel='time')\n",
    "    plt.ylabel(ylabel='NO2_trop_col (molecules/cm^2)')\n",
    "    plt.show()"
   ]
  },
  {
   "cell_type": "code",
   "execution_count": 122,
   "id": "738a1ce4",
   "metadata": {},
   "outputs": [],
   "source": [
    "import seaborn as sns\n",
    "def plot_hist(df):\n",
    "    ax1 = sns.distplot(df['NO2_trop_col'], rug=True, hist=True)\n",
    "    plt.show()"
   ]
  },
  {
   "cell_type": "markdown",
   "id": "547c28f5",
   "metadata": {},
   "source": [
    "# Data Processing"
   ]
  },
  {
   "cell_type": "markdown",
   "id": "6c351838",
   "metadata": {},
   "source": [
    "# Greenbelt"
   ]
  },
  {
   "cell_type": "code",
   "execution_count": 127,
   "id": "407135b3",
   "metadata": {},
   "outputs": [
    {
     "data": {
      "image/png": "[encoded data removed]",
      "text/plain": [
       "<Figure size 432x288 with 1 Axes>"
      ]
     },
     "metadata": {
      "needs_background": "light"
     },
     "output_type": "display_data"
    }
   ],
   "source": [
    "plot_errorbar(Greenbelt_df)"
   ]
  },
  {
   "cell_type": "code",
   "execution_count": 105,
   "id": "f7180ba1",
   "metadata": {},
   "outputs": [
    {
     "name": "stderr",
     "output_type": "stream",
     "text": [
      "c:\\users\\张心怡\\appdata\\local\\programs\\python\\python38\\lib\\site-packages\\seaborn\\distributions.py:2557: FutureWarning: `distplot` is a deprecated function and will be removed in a future version. Please adapt your code to use either `displot` (a figure-level function with similar flexibility) or `histplot` (an axes-level function for histograms).\n",
      "  warnings.warn(msg, FutureWarning)\n",
      "c:\\users\\张心怡\\appdata\\local\\programs\\python\\python38\\lib\\site-packages\\seaborn\\distributions.py:2056: FutureWarning: The `axis` variable is no longer used and will be removed. Instead, assign variables directly to `x` or `y`.\n",
      "  warnings.warn(msg, FutureWarning)\n"
     ]
    },
    {
     "data": {
      "image/png": "[encoded data removed]",
      "text/plain": [
       "<Figure size 432x288 with 1 Axes>"
      ]
     },
     "metadata": {
      "needs_background": "light"
     },
     "output_type": "display_data"
    }
   ],
   "source": [
    "plot_hist(Greenbelt_df)"
   ]
  },
  {
   "cell_type": "markdown",
   "id": "73fe56e2",
   "metadata": {},
   "source": [
    "# Boulder"
   ]
  },
  {
   "cell_type": "code",
   "execution_count": 128,
   "id": "0540a1d8",
   "metadata": {},
   "outputs": [
    {
     "data": {
      "image/png": "[encoded data removed]",
      "text/plain": [
       "<Figure size 432x288 with 1 Axes>"
      ]
     },
     "metadata": {
      "needs_background": "light"
     },
     "output_type": "display_data"
    }
   ],
   "source": [
    "plot_errorbar(Boulder_df)"
   ]
  },
  {
   "cell_type": "code",
   "execution_count": 125,
   "id": "2f1155e9",
   "metadata": {},
   "outputs": [
    {
     "name": "stderr",
     "output_type": "stream",
     "text": [
      "c:\\users\\张心怡\\appdata\\local\\programs\\python\\python38\\lib\\site-packages\\seaborn\\distributions.py:2557: FutureWarning: `distplot` is a deprecated function and will be removed in a future version. Please adapt your code to use either `displot` (a figure-level function with similar flexibility) or `histplot` (an axes-level function for histograms).\n",
      "  warnings.warn(msg, FutureWarning)\n",
      "c:\\users\\张心怡\\appdata\\local\\programs\\python\\python38\\lib\\site-packages\\seaborn\\distributions.py:2056: FutureWarning: The `axis` variable is no longer used and will be removed. Instead, assign variables directly to `x` or `y`.\n",
      "  warnings.warn(msg, FutureWarning)\n"
     ]
    },
    {
     "data": {
      "image/png": "[encoded data removed]",
      "text/plain": [
       "<Figure size 432x288 with 1 Axes>"
      ]
     },
     "metadata": {
      "needs_background": "light"
     },
     "output_type": "display_data"
    }
   ],
   "source": [
    "plot_hist(Boulder_df)"
   ]
  },
  {
   "cell_type": "code",
   "execution_count": null,
   "id": "4aa5c51f",
   "metadata": {},
   "outputs": [],
   "source": []
  }
 ],
 "metadata": {
  "kernelspec": {
   "display_name": "Python 3 (ipykernel)",
   "language": "python",
   "name": "python3"
  },
  "language_info": {
   "codemirror_mode": {
    "name": "ipython",
    "version": 3
   },
   "file_extension": ".py",
   "mimetype": "text/x-python",
   "name": "python",
   "nbconvert_exporter": "python",
   "pygments_lexer": "ipython3",
   "version": "3.8.0"
  }
 },
 "nbformat": 4,
 "nbformat_minor": 5
}
