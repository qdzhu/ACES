{
 "cells": [
  {
   "cell_type": "markdown",
   "metadata": {},
   "source": [
    "# Exploratory Activity 14: Exploring Fires from Space"
   ]
  },
  {
   "cell_type": "markdown",
   "metadata": {},
   "source": [
    "*prepared in consultation with Dr. Josh Laughner*\n"
   ]
  },
  {
   "cell_type": "markdown",
   "metadata": {},
   "source": [
    "As you learned this morning, satellite-based data sets are an invaluable resource to atmospheric scientists, with numerous applications in a variety of subdisciplines. Wildfires, for example, are excellent candidates for remote sensing in that they begin without warning and are particularly dangerous to monitor via in situ techniques. Today you will explore some recent wildfire events from space using NASA’s \"[Worldview](https://worldview.earthdata.nasa.gov/)\" data visualizer application, an expansive collection of fully processed and publicly available global satellite data.\n"
   ]
  },
  {
   "cell_type": "markdown",
   "metadata": {},
   "source": [
    "## 14.1 Analyzing Aerosol Optical Depth"
   ]
  },
  {
   "cell_type": "markdown",
   "metadata": {},
   "source": [
    "To get started, access the Worldview data visualizer at the link above. Locate the \"Base Layers\" at the bottom of the layers panel. Click the eyeballs to the left of each one until you have enabled the \"Aqua / MODIS\" Corrected Reflectance layer and disabled the \"Terra / MODIS\" and \"Suomi NPP / VIIRS\" layers. Then enable the \"Place Labels,\" \"Coastlines / Borders / Roads,\" and \"Coastlines\" layers as well. Make sure you are familiar with how to change your field of view, zoom in and out, and change the date being displayed before you move on. "
   ]
  },
  {
   "cell_type": "markdown",
   "metadata": {},
   "source": [
    "**Question 14.1.1** In November 2018, UC Berkeley canceled classes campuswide due to poor air quality resulting from a wildfire burning ~300 km to the north near Chico, California. Using the +/- controls in the upper right corner of the data visualizer, zoom in on Northern California. Then use the date panel in the lower left corner to advance day-by-day through the month of November 2018. Based on the Corrected Reflectance data (which has been processed to show the Earth's surface in its \"True Color\"), when do you think the fire started?\n"
   ]
  },
  {
   "cell_type": "raw",
   "metadata": {},
   "source": [
    "Large smoke plume originating in the vicinity of Chico, CA is first visible on 8 Nov 2017."
   ]
  },
  {
   "cell_type": "markdown",
   "metadata": {},
   "source": [
    "**Question 14.1.2** Using Corrected Reflectance alone, it can sometimes be difficult to tell the difference between clouds of water vapor and plumes of smoke (i.e., aerosol). To double check your answer to the question above, you can add another layer of data to the visualization. First click the orange \"Add Layers\" button at the bottom of the layers panel on the left and choose the \"Aerosol Optical Depth\" category from the \"Air Quality\" menu. From the \"Aqua / MODIS\" instrument, check the \"Deep Blue Aerosol Optical Depth\" box and then close the menu. Based on the aerosol optical depth measured in Northern California that day, does the white-gray mass you identified in the previous question appear to be comprised of clouds or smoke?\n"
   ]
  },
  {
   "cell_type": "raw",
   "metadata": {},
   "source": [
    "The AOD is deep red over the region originally assumed to be a smoke plume, indicating that it is indeed comprised of smoke."
   ]
  },
  {
   "cell_type": "markdown",
   "metadata": {},
   "source": [
    "**Question 14.1.3** What is the aerosol optical depth measured at the origin of the plume on this day?\n",
    "\n",
    "*Hint: When you hover your cursor over the map, an arrow appears on the layers panel to indicate the numerical range associated with the color of a given pixel.*\n"
   ]
  },
  {
   "cell_type": "raw",
   "metadata": {},
   "source": [
    "At the plume origin, AOD was between 1.130 and 1.560."
   ]
  },
  {
   "cell_type": "markdown",
   "metadata": {},
   "source": [
    "**Question 14.1.4** What does the Deep Blue Aerosol Optical Depth look like in areas containing clouds? Why?\n",
    "\n",
    "*Hint: Most of the central and eastern United States were covered in clouds during this period.*"
   ]
  },
  {
   "cell_type": "raw",
   "metadata": {},
   "source": [
    "Areas containing clouds do not have any AOD data, because the presence of clouds complicates the AOD measurement."
   ]
  },
  {
   "cell_type": "markdown",
   "metadata": {},
   "source": [
    "**Question 14.1.5** Now that you have identified the beginning of what is known as the “Camp Fire,” arrow forward through time to see how the aerosol optical depth evolved. Notice that this data layer stops abruptly at the western coast of California because it is a land-only data product. Use the “Add Layers” button again to find an additional data product that allows you to view the full expansion of the smoke plume over the Pacific Ocean. Three days into the wildfire, how far west does the smoke aerosol appear to reach?\n"
   ]
  },
  {
   "cell_type": "raw",
   "metadata": {},
   "source": [
    "Adding the Terra/Aqua MODIS \"MODIS Combined Value-Added Aerosol Optical Depth\" layer gives AOD over the Pacific Ocean as well, showing evidence of the smoke plume as far west as -128.7 degrees longitude on 11 Nov 2018. "
   ]
  },
  {
   "cell_type": "markdown",
   "metadata": {},
   "source": [
    "**Question 14.1.6** Discuss your answer to the previous question with a partner. Did you both get the same answer? If not, can you persuade your partner that your answer is also a reasonable one? Why is this a difficult question to evaluate?\n"
   ]
  },
  {
   "cell_type": "raw",
   "metadata": {},
   "source": [
    "Student answers will vary, but will likely reference cloud cover over the Pacific Ocean as a complicating factor."
   ]
  },
  {
   "cell_type": "markdown",
   "metadata": {},
   "source": [
    "## 14.2 Analyzing CO and CO<sub>2</sub>"
   ]
  },
  {
   "cell_type": "markdown",
   "metadata": {},
   "source": [
    "**Question 14.2.1** In addition to aerosol, another pollutant we expect to be produced by wildfire burning is carbon monoxide. Use the “Add Layers” button to find an overlay of carbon monoxide measurements from the Aqua satellite. What was the CO concentration over San Francisco on the first day of the Camp Fire? Did you choose an “L2” or an \"L3\" data set? How might that choice impact your answer?\n"
   ]
  },
  {
   "cell_type": "raw",
   "metadata": {},
   "source": [
    "The L2 \"Day\" layer indicates a CO concentration of approximately 142 ppb over San Francisco on 8 Nov 2018. Using the L3 \"Day, Dailey\" data product estimates closer to 111 ppb due to the San Francisco \"pixel\" getting averaged together with less polluted pixels when the spatial resolution was decreased for the L3 data product."
   ]
  },
  {
   "cell_type": "markdown",
   "metadata": {},
   "source": [
    "**Question 14.2.2** For comparison, what was the carbon monoxide concentration over San Francisco the day before the fire began?\n"
   ]
  },
  {
   "cell_type": "raw",
   "metadata": {},
   "source": [
    "On 7 Nov 2018, the CO concentration over San Francisco was approximately 76 ppb."
   ]
  },
  {
   "cell_type": "markdown",
   "metadata": {},
   "source": [
    "**Question 14.2.3** Scientists are often curious about the CO to CO<sub>2</sub> ratio in emission plumes as this proportion can be indicative of the particular fuel(s) and combustion process(es) involved at the source of the plume. Use the \"Add Layers\" button to investigate the various carbon dioxide overlays available in the Worldview collection. Why is it not possible to calculate a CO:CO<sub>2</sub> emission ratio for this particular fire using this particular data library?\n",
    "\n",
    "*Hint: The \"ⓘ\" symbol in the upper right corner of each overlay gives more information about a particular data set.*"
   ]
  },
  {
   "cell_type": "raw",
   "metadata": {},
   "source": [
    "The only CO2 measurement instrument producing observations during this time period was OCO-2, whose narrow swath did not cover the San Franciso Bay Area during this time period."
   ]
  },
  {
   "cell_type": "markdown",
   "metadata": {},
   "source": [
    "## 14.3 Analyzing Thermal Anomalies"
   ]
  },
  {
   "cell_type": "markdown",
   "metadata": {},
   "source": [
    "Another convenient way to investigate wildfires is by adding the \"Aqua / MODIS Fires and Thermal Anomalies\" overlay using the \"Add Layers\" button. This data set indicates the locations of likely fires, volcanoes, and/or gas flares using red dots. Check the dates of the Camp Fire to make sure that the \"Fires and Thermal Anomalies\" layer displays what you would expect."
   ]
  },
  {
   "cell_type": "markdown",
   "metadata": {},
   "source": [
    "**Question 14.3.1** Zooming out so that your field of vision includes Southern California as well, you will see that another wildfire (deemed the \"Woolsey Fire\") started near Los Angeles on 9 November 2018. You can see the smoke plume emanating from this fire on the Corrected Reflectance layer. What do you see in the aerosol optical depth layer for this fire?\n"
   ]
  },
  {
   "cell_type": "raw",
   "metadata": {},
   "source": [
    "Very little AOD data is available in Southern California on this day; it is possible that the smoke plume has been misclassified as a cloud and the data removed in processing."
   ]
  },
  {
   "cell_type": "markdown",
   "metadata": {},
   "source": [
    "While California's wildfire season is essentially year-round, in other parts of the western United States and Canada, it is relatively rare for wildfires to burn in November. Zoom out so that your field of vision includes most of North America and use the \"Start Comparison\" button to create a second panel visualizing conditions on 16 August 2018, during the typical fire season. You may need to add more layers to the new panel to make it a fair comparison. \n"
   ]
  },
  {
   "cell_type": "markdown",
   "metadata": {},
   "source": [
    "**Question 14.3.2** Using the \"Swipe\" compare mode, slide the A-B line across the western United States. When are more \"Fires and Thermal Anomalies\" observed, during August or November?"
   ]
  },
  {
   "cell_type": "raw",
   "metadata": {},
   "source": [
    "More \"Fires and Thermal Anomalies\" are observed during August."
   ]
  },
  {
   "cell_type": "markdown",
   "metadata": {},
   "source": [
    "**Question 14.3.3** What aerosol optical depth was observed in San Francisco on these two days?"
   ]
  },
  {
   "cell_type": "raw",
   "metadata": {},
   "source": [
    "The AOD in San Francisco on 9 Nov 2018 is approximately 0.7, compared to 0.2 on 16 Aug 2019."
   ]
  },
  {
   "cell_type": "markdown",
   "metadata": {},
   "source": [
    "**Question 14.3.4** Discuss with your partner some reasons why the aerosol optical depth in the Bay Area might be higher in November, when there are fewer fires nearby. More generally, what atmospheric conditions might mitigate or exacerbate other factors associated with poor air quality?\n"
   ]
  },
  {
   "cell_type": "raw",
   "metadata": {},
   "source": [
    "Student answers may vary, but some factors mentioned may include seasonal weather patterns involving wind direction, stagnation, and boundary layer depth."
   ]
  },
  {
   "cell_type": "markdown",
   "metadata": {},
   "source": [
    "## 14.4 Analyzing Albedo"
   ]
  },
  {
   "cell_type": "markdown",
   "metadata": {},
   "source": [
    "**Question 14.4.1** In addition to measuring the atmospheric changes that result from wildfire burning, satellite data sets can also be used to quantify the effect of wildfires on the land by monitoring the changes in the surface before and after the fire. With your field of vision zoomed in on the origin of the Camp Fire smoke plume, rewind the visualizer to the day before the fire began. Then use the \"Start Comparison\" button to create a second panel visualizing conditions on 6 December 2018, one month later, after the fire was extinguished. Disabling all of the additional overlays, what differences do you notice between the Aqua / MODIS Corrected Reflectance in each panel?\n"
   ]
  },
  {
   "cell_type": "raw",
   "metadata": {},
   "source": [
    "On 6 Dec 2018, there is a large dark brown patch that used to be dark green on 7 Nov 2018."
   ]
  },
  {
   "cell_type": "markdown",
   "metadata": {},
   "source": [
    "**Question 14.4.2** Sometimes the remote sensing instruments can \"see\" changes better than the human eye can. Add Aqua / MODIS Albedo layer to both panels and compare the two again. Do you notice anything different from and/or in addition to when you compared the Corrected Reflectance panels?\n"
   ]
  },
  {
   "cell_type": "raw",
   "metadata": {},
   "source": [
    "The contrast is much more obvious; the patch noted above transitions abruptly from neon green (more reflective) on 7 Nov 2018 to dark blue (less reflective) on 6 Dec 2018. There is another area to the SW of that patch that undergoes a similar change in albedo that is not abundantly obvious when using the Corrected Reflectance layer alone."
   ]
  },
  {
   "cell_type": "markdown",
   "metadata": {},
   "source": [
    "## 14.5 Comparing Observations from Different Satellites\n"
   ]
  },
  {
   "cell_type": "markdown",
   "metadata": {},
   "source": [
    "It is important to note that so far, you have only been using data layers generated by instruments aboard the \"Aqua\" satellite (e.g., \"Aqua / MODIS\" and \"Aqua / AIRS\"), but there are of course many other measurement platforms in orbit! You do, however, have to exercise care when intercomparing measurements made from different satellites. To highlight this point, disable all of the \"Overlays\" you have added until only the \"Aqua / MODIS\" \"Base Layer\" remains. Return to the first day of the Camp Fire and toggle between the \"Aqua / MODIS\" Colored Reflectance and the \"Terra / MODIS\" Corrected Reflectance. \n"
   ]
  },
  {
   "cell_type": "markdown",
   "metadata": {},
   "source": [
    "**Question 14.5.1** What differences do you observe? Which data set do you think was collected first?"
   ]
  },
  {
   "cell_type": "raw",
   "metadata": {},
   "source": [
    "Terra / MODIS appears to be collected first because the smoke plume pictured in that data set has not yet spread all the way to the Pacific coast, whereas the plume shown in the Aqua / MODIS data set has already spread over the ocean."
   ]
  },
  {
   "cell_type": "markdown",
   "metadata": {},
   "source": [
    "**Question 14.5.2** With your partner, confirm or refute your hypothesis above by assigning one person to research the overpass time of each satellite. What did you find? Was your initial hypothesis correct?\n"
   ]
  },
  {
   "cell_type": "raw",
   "metadata": {},
   "source": [
    "Student answers will vary, but equatorial overpass time is ~10:30am for Terra and ~1:30pm for Aqua."
   ]
  },
  {
   "cell_type": "markdown",
   "metadata": {},
   "source": [
    "**Question 14.5.3** Now examine the Suomi NPP / VIIRS Corrected Reflectance layer. Does this satellite appear to have an overpass time more similar to that of the Aqua or Terra satellite? Do some research to confirm your answer."
   ]
  },
  {
   "cell_type": "raw",
   "metadata": {},
   "source": [
    "The overpass time of Suomi NPP / VIIRS is more similar to Aqua's."
   ]
  },
  {
   "cell_type": "markdown",
   "metadata": {},
   "source": [
    "## 14.6 Independent Exploration"
   ]
  },
  {
   "cell_type": "markdown",
   "metadata": {},
   "source": [
    "**Question 14.6.1** Explore the various other data sets available using the \"Add Layers\" button. As you overlay observations made aboard different satellites, keep in mind what you have learned about overpass times and intercomparability. Based on what you find, pose to your partner a new question of your own invention that could be answered using the NASA Worldview data visualizer. (It need not concern wildfires!) Record your question and their response below."
   ]
  },
  {
   "cell_type": "raw",
   "metadata": {},
   "source": [
    "Student answers will vary."
   ]
  }
 ],
 "metadata": {
  "kernelspec": {
   "display_name": "Python 3",
   "language": "python",
   "name": "python3"
  },
  "language_info": {
   "codemirror_mode": {
    "name": "ipython",
    "version": 3
   },
   "file_extension": ".py",
   "mimetype": "text/x-python",
   "name": "python",
   "nbconvert_exporter": "python",
   "pygments_lexer": "ipython3",
   "version": "3.7.4"
  }
 },
 "nbformat": 4,
 "nbformat_minor": 2
}
