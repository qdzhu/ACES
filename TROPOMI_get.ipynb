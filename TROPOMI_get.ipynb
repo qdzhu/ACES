{
 "cells": [
  {
   "cell_type": "code",
   "execution_count": 2,
   "id": "21f1c046",
   "metadata": {},
   "outputs": [],
   "source": [
    "from netCDF4 import Dataset\n",
    "import numpy as np\n",
    "import math\n",
    "import cartopy\n",
    "import cartopy.crs as ccrs\n",
    "import matplotlib.pyplot as plt\n",
    "import pandas as pd\n",
    "from pandas.core.frame import DataFrame"
   ]
  },
  {
   "cell_type": "code",
   "execution_count": 11,
   "id": "6a98c19d",
   "metadata": {},
   "outputs": [],
   "source": [
    "def get_TROPOMI(file_path,longitude,latitude):\n",
    "    ##The longitude and latitude variables are longitude and latitude of the pandora sites. \n",
    "    ##For BoulderCO it's longitude = -105.26 and latitude = 39.99, \n",
    "    ##for GreenbeltMD it's longitude = -76.8396, latitude = 38.9926,\n",
    "    ##for MaunaLoaHI it's longitude = -155.6027, latitude = 19.4795,\n",
    "    ##for NewHavenCT it's longitude = -72.9029, latitude = 41.3014\n",
    "    ##I don't want to be so troublesome too, but I found that the four places can be contained in two different .nc files. :(\n",
    "    f = Dataset(file_path, mode='r')\n",
    "    lon = f.groups['PRODUCT'].variables['longitude'][0][:]\n",
    "    lat = f.groups['PRODUCT'].variables['latitude'][0][:]\n",
    "    time = f.groups['PRODUCT'].variables['time_utc'][0][:]\n",
    "    units = f.groups['PRODUCT'].variables['nitrogendioxide_tropospheric_column'].units\n",
    "    NO2_trop = f.groups['PRODUCT'].variables['nitrogendioxide_tropospheric_column'][0][:]\n",
    "    NO2_col_df = DataFrame(NO2_trop)\n",
    "    list_1 = []\n",
    "    for i in range(0,len(NO2_trop)):\n",
    "        for j in range(0,len(NO2_trop[0])):\n",
    "            if lon[i][j] >= longitude-0.1802 and lon[i][j] <= longitude + 0.1802:\n",
    "                if lat[i][j] >= latitude-0.1802 and lat[i][j] <= latitude+0.1802:\n",
    "                    if math.isnan(NO2_col_df[j][i]) == False:\n",
    "                        list_1.append((i,j))\n",
    "    dist = []\n",
    "    dist_min = (9999,9999)\n",
    "    for i in list_1:\n",
    "        dist.append((lon[i[0]][i[1]] + 105.26)**2 + (lat[i[0]][i[1]] - 39.99)**2)\n",
    "    for i in range(len(dist)):\n",
    "        if dist[i] == min(dist):\n",
    "            dist_min = list_1[i]\n",
    "    if dist_min == (9999,9999):\n",
    "        print('all the qualified coincident data is NaN')\n",
    "    lon_min = lon[dist_min[0]][dist_min[1]]\n",
    "    lat_min = lat[dist_min[0]][dist_min[1]]\n",
    "    NO2_col_min = NO2_col_df[dist_min[1]][dist_min[0]]\n",
    "    time_min = time[dist_min[0]]\n",
    "    return [lon_min, lat_min, NO2_col_min, units, time_min]"
   ]
  },
  {
   "cell_type": "code",
   "execution_count": 12,
   "id": "3f10bf09",
   "metadata": {},
   "outputs": [],
   "source": [
    "BoulderCO = get_TROPOMI(\"S5P_OFFL_L2__NO2____20191106T184032_20191106T202201_10703_01_010302_20191112T214725.nc\",-105.26,39.99)"
   ]
  },
  {
   "cell_type": "code",
   "execution_count": 14,
   "id": "1d04e138",
   "metadata": {},
   "outputs": [],
   "source": [
    "NewHavenCT = get_TROPOMI(\"S5P_OFFL_L2__NO2____20191106T165902_20191106T184032_10702_01_010302_20191112T191844.nc\",-72.9029, 41.3014)"
   ]
  },
  {
   "cell_type": "code",
   "execution_count": 15,
   "id": "5718116f",
   "metadata": {},
   "outputs": [],
   "source": [
    "GreenbeltMD = get_TROPOMI(\"S5P_OFFL_L2__NO2____20191106T165902_20191106T184032_10702_01_010302_20191112T191844.nc\",longitude = -76.8396, latitude = 38.9926)"
   ]
  },
  {
   "cell_type": "code",
   "execution_count": 17,
   "id": "3ad0cfea",
   "metadata": {},
   "outputs": [],
   "source": [
    "MaunaLoaHI = []\n",
    "##It seems that it's not contained in any of the four files."
   ]
  },
  {
   "cell_type": "code",
   "execution_count": 18,
   "id": "ea10e044",
   "metadata": {},
   "outputs": [
    {
     "data": {
      "text/plain": [
       "'2019-11-06T19:46:46.324000Z'"
      ]
     },
     "execution_count": 18,
     "metadata": {},
     "output_type": "execute_result"
    }
   ],
   "source": [
    "BoulderCO[-1]"
   ]
  },
  {
   "cell_type": "code",
   "execution_count": 19,
   "id": "bb7e8f0d",
   "metadata": {},
   "outputs": [
    {
     "data": {
      "text/plain": [
       "[-73.07848, 41.35316, 3.50898e-05, 'mol m-2', '2019-11-06T18:05:16.780000Z']"
      ]
     },
     "execution_count": 19,
     "metadata": {},
     "output_type": "execute_result"
    }
   ],
   "source": [
    "NewHavenCT"
   ]
  },
  {
   "cell_type": "code",
   "execution_count": 20,
   "id": "b024ddda",
   "metadata": {},
   "outputs": [
    {
     "data": {
      "text/plain": [
       "[-77.01803, 39.07455, 4.6375877e-05, 'mol m-2', '2019-11-06T18:04:50.741000Z']"
      ]
     },
     "execution_count": 20,
     "metadata": {},
     "output_type": "execute_result"
    }
   ],
   "source": [
    "GreenbeltMD"
   ]
  }
 ],
 "metadata": {
  "kernelspec": {
   "display_name": "Python 3 (ipykernel)",
   "language": "python",
   "name": "python3"
  },
  "language_info": {
   "codemirror_mode": {
    "name": "ipython",
    "version": 3
   },
   "file_extension": ".py",
   "mimetype": "text/x-python",
   "name": "python",
   "nbconvert_exporter": "python",
   "pygments_lexer": "ipython3",
   "version": "3.8.0"
  }
 },
 "nbformat": 4,
 "nbformat_minor": 5
}
