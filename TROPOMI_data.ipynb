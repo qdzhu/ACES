{
 "cells": [
  {
   "cell_type": "code",
   "execution_count": 1,
   "metadata": {
    "collapsed": true
   },
   "outputs": [],
   "source": [
    "from netCDF4 import Dataset"
   ]
  },
  {
   "cell_type": "code",
   "execution_count": 4,
   "metadata": {},
   "outputs": [],
   "source": [
    "file_path=\"/Users/monicazhu/Box/ACES/S5P_OFFL_L2__NO2____20191106T202201_20191106T220331_10704_01_010302_20191112T225333.nc\"\n",
    "f = Dataset(file_path, mode='r')\n"
   ]
  },
  {
   "cell_type": "code",
   "execution_count": 5,
   "metadata": {},
   "outputs": [
    {
     "data": {
      "text/plain": [
       "<class 'netCDF4._netCDF4.Dataset'>\n",
       "root group (NETCDF4 data model, file format HDF5):\n",
       "    Conventions: CF-1.7\n",
       "    institution: KNMI\n",
       "    source: Sentinel 5 precursor, TROPOMI, space-borne remote sensing, L2\n",
       "    summary: TROPOMI/S5P NO2 1-Orbit L2 Swath 7x3.5km\n",
       "    tracking_id: 6d3da063-b09e-4e97-b4fc-c754aedcb8f0\n",
       "    id: S5P_OFFL_L2__NO2____20191106T202201_20191106T220331_10704_01_010302_20191112T225333\n",
       "    time_reference: 2019-11-06T00:00:00Z\n",
       "    time_reference_days_since_1950: 25511\n",
       "    time_reference_julian_day: 2458793.5\n",
       "    time_reference_seconds_since_1970: 1572998400\n",
       "    time_coverage_start: 2019-11-06T20:43:36Z\n",
       "    time_coverage_end: 2019-11-06T21:41:59Z\n",
       "    time_coverage_duration: PT3503.561S\n",
       "    time_coverage_resolution: PT0.840S\n",
       "    orbit: 10704\n",
       "    references: http://www.tropomi.eu/data-products/nitrogen-dioxide\n",
       "    processor_version: 1.3.2\n",
       "    keywords_vocabulary: AGU index terms, http://publications.agu.org/author-resource-center/index-terms/\n",
       "    keywords: 0345 Pollution, Urban and Regional; 0365 Troposphere, Composition and Chemistry; 0368 Troposphere, Constituent Transport and Chemistry; 3360 Remote Sensing; 3363 Stratospheric Dynamics\n",
       "    standard_name_vocabulary: NetCDF Climate and Forecast Metadata Conventions Standard Name Table (v29, 08 July 2015), http://cfconventions.org/standard-names.html\n",
       "    naming_authority: nl.knmi\n",
       "    cdm_data_type: Swath\n",
       "    date_created: 2019-11-12T22:53:54Z\n",
       "    creator_name: The Sentinel 5 Precursor TROPOMI Level 2 products are developed with funding from the European Space Agency (ESA), the Netherlands Space Office (NSO), the Belgian Science Policy Office, the German Aerospace Center (DLR) and the Bayerisches Staatsministerium für Wirtschaft und Medien, Energie und Technologie (StMWi).\n",
       "    creator_url: http://www.tropomi.eu\n",
       "    creator_email: EOSupport@Copernicus.esa.int\n",
       "    project: Sentinel 5 precursor/TROPOMI\n",
       "    geospatial_lat_min: -89.95744\n",
       "    geospatial_lat_max: 89.31528\n",
       "    geospatial_lon_min: 179.99985\n",
       "    geospatial_lon_max: -179.99797\n",
       "    license: No conditions apply\n",
       "    platform: S5P\n",
       "    sensor: TROPOMI\n",
       "    spatial_resolution: 7x3.5km2\n",
       "    cpp_compiler_version: g++ (GCC) 4.8.5 20150623 (Red Hat 4.8.5-11)\n",
       "    cpp_compiler_flags: -g -O2 -fPIC -std=c++11 -W -Wall -Wno-ignored-qualifiers -Wno-write-strings -Wno-unused-variable -DTROPNLL2DP\n",
       "    f90_compiler_version: GNU Fortran (GCC) 4.8.5 20150623 (Red Hat 4.8.5-11)\n",
       "    f90_compiler_flags: -gdwarf-3 -O2 -fPIC -cpp -ffpe-trap=invalid -fno-range-check -frecursive -fimplicit-none -ffree-line-length-none -DTROPNLL2DP -Wuninitialized -Wtabs\n",
       "    build_date: 2019-04-05T12:04:00Z\n",
       "    revision_control_identifier: \n",
       "    geolocation_grid_from_band: 4\n",
       "    identifier_product_doi: 10.5270/S5P-s4ljg54\n",
       "    identifier_product_doi_authority: http://dx.doi.org/\n",
       "    algorithm_version: 1.3.0\n",
       "    title: TROPOMI/S5P NO2 1-Orbit L2 Swath 7x3.5km\n",
       "    product_version: 1.1.0\n",
       "    Status_MET_2D: Nominal\n",
       "    Status_NISE__: Nominal\n",
       "    Status_CTMFCT: Nominal\n",
       "    history: 2019-11-12 23:05:11 f_s5pops tropnll2dp /mnt/data1/storage_offl_l2/cache_offl_l2/WORKING-608247897/JobOrder.608247854.xml; 2019-11-18 13:42:57 TM5-MP-DOMINO offline\n",
       "    processing_status: OFFL-processing nominal product\n",
       "    date_modified: 2019-11-18T13:42:57Z\n",
       "    dimensions(sizes): \n",
       "    variables(dimensions): \n",
       "    groups: PRODUCT, METADATA"
      ]
     },
     "execution_count": 5,
     "metadata": {},
     "output_type": "execute_result"
    }
   ],
   "source": [
    "f"
   ]
  },
  {
   "cell_type": "code",
   "execution_count": 15,
   "metadata": {},
   "outputs": [
    {
     "data": {
      "text/plain": [
       "odict_keys(['scanline', 'ground_pixel', 'time', 'corner', 'polynomial_exponents', 'intensity_offset_polynomial_exponents', 'layer', 'vertices', 'latitude', 'longitude', 'delta_time', 'time_utc', 'qa_value', 'nitrogendioxide_tropospheric_column', 'nitrogendioxide_tropospheric_column_precision', 'nitrogendioxide_tropospheric_column_precision_kernel', 'averaging_kernel', 'air_mass_factor_troposphere', 'air_mass_factor_total', 'tm5_tropopause_layer_index', 'tm5_constant_a', 'tm5_constant_b'])"
      ]
     },
     "execution_count": 15,
     "metadata": {},
     "output_type": "execute_result"
    }
   ],
   "source": [
    "f.groups['PRODUCT'].variables.keys()"
   ]
  },
  {
   "cell_type": "markdown",
   "metadata": {},
   "source": [
    "I've met a problem. I can't find the keys in this file. So I can't call the data under the keys."
   ]
  }
 ],
 "metadata": {
  "kernelspec": {
   "display_name": "Python 3",
   "language": "python",
   "name": "python3"
  },
  "language_info": {
   "codemirror_mode": {
    "name": "ipython",
    "version": 3
   },
   "file_extension": ".py",
   "mimetype": "text/x-python",
   "name": "python",
   "nbconvert_exporter": "python",
   "pygments_lexer": "ipython3",
   "version": "3.6.3"
  }
 },
 "nbformat": 4,
 "nbformat_minor": 5
}
