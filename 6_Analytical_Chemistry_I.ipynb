{
 "cells": [
  {
   "cell_type": "markdown",
   "metadata": {},
   "source": [
    "# Exploratory Activity 6: Analytical Chemistry I"
   ]
  },
  {
   "cell_type": "markdown",
   "metadata": {},
   "source": [
    "**Question 6.1** You used two different techniques to create the standard solutions for your calibration curves. What piece of equipment determined the number of significant figures in the final concentrations you calculated for standard solutions 1-6 vs. solutions 7-14? Which technique will theoretically allow you to determine the molar absorptivities to greater precision?\n"
   ]
  },
  {
   "cell_type": "raw",
   "metadata": {},
   "source": [
    "Students answers may vary depending on the exact equipment supplied by the stock room for this experiment, but it is expected that the syringe used to create solutions 1-6 will be the least precise piece of instrumentation used. Thus, the technique used to create solutions 7-14 should allow for more precise determination of molar absorptivities."
   ]
  },
  {
   "cell_type": "markdown",
   "metadata": {},
   "source": [
    "**Question 6.2** Input the data you obtained from the more precisely known set of standard solutions into the code below. Then run the code to plot the calibration curves of absorbance vs. molarity for both wavelengths. The code also adds best fit lines to the plot using a linear regression technique similar to that used in Exploratory Activity 2."
   ]
  },
  {
   "cell_type": "code",
   "execution_count": null,
   "metadata": {},
   "outputs": [],
   "source": [
    "# first import the necessary libraries\n",
    "import matplotlib.pyplot as plt\n",
    "import numpy as np\n",
    "\n",
    "# students will enter their own concentration and absorbance data; dummy data shown here\n",
    "molarity = [24,30,36,42,48,54,60,66,72]\n",
    "Abs1 = [0.12,0.23,0.31,0.42,0.54,0.61,0.72,0.82,0.92]\n",
    "Abs2 = [0.05,0.12,0.14,0.21,0.23,0.30,0.34,0.41,0.45]\n",
    "\n",
    "# using subplots again allows us to easily plot additional information in the same plot\n",
    "fig, ax = plt.subplots(num=None, facecolor='w', edgecolor='k')\n",
    "\n",
    "# compare molarity and absorbance variables using a scatter plot\n",
    "ax.scatter(molarity, Abs1)\n",
    "ax.scatter(molarity, Abs2)\n",
    "\n",
    "# find the lines of best fit through the data with polyfit\n",
    "# line is an array containing b (the y-intercept) and m (the slope)\n",
    "# cov is the covariance matrix, which will be used in the next question\n",
    "line1, cov1 = np.polyfit(molarity, Abs1, 1, cov=True)\n",
    "line2, cov2 = np.polyfit(molarity, Abs2, 1, cov=True)\n",
    "\n",
    "# add the lines of best fit to the scatter plot\n",
    "ax.plot(molarity, line1[1] + [conc * line1[0] for conc in molarity], '-')\n",
    "ax.plot(molarity, line2[1] + [conc * line2[0] for conc in molarity], '-')"
   ]
  },
  {
   "cell_type": "markdown",
   "metadata": {},
   "source": [
    "**Question 6.3** Based on the calibration slopes derived above, what is the molar absorptivity of your assigned dye at each of the wavelengths of interest?"
   ]
  },
  {
   "cell_type": "code",
   "execution_count": null,
   "metadata": {},
   "outputs": [],
   "source": [
    "# set the molar absorptivities (epsilon) equal to the slopes of each best fit line\n",
    "epsilon1 = line1[0]\n",
    "epsilon2 = line2[0]"
   ]
  },
  {
   "cell_type": "markdown",
   "metadata": {},
   "source": [
    "**Question 6.4** The code below uses the covariance matrices of the best fit lines to calculate the standard deviation of the slopes, which could be interpreted as the error in the molar absorptivities. Does this seem like a good way to estimate the error of this quantity? What information is included in this calculation? What information is left out?"
   ]
  },
  {
   "cell_type": "code",
   "execution_count": null,
   "metadata": {},
   "outputs": [],
   "source": [
    "# take the square root of the first element of the first row of each matrix\n",
    "stdev1 = np.sqrt(cov1[0][0])\n",
    "stdev2 = np.sqrt(cov2[0][0])\n",
    "\n",
    "# display the standard deviations\n",
    "print(stdev1, stdev2)"
   ]
  },
  {
   "cell_type": "raw",
   "metadata": {},
   "source": [
    "Student answers will vary, but will hopefully recognize that the uncertainties in the molarities were not used as an input in the linear regression, and therefore are not represented in the covariance matrix."
   ]
  },
  {
   "cell_type": "markdown",
   "metadata": {},
   "source": [
    "**Question 6.5** Ask your partner for the other dye’s molar absorptivities and record them below. "
   ]
  },
  {
   "cell_type": "code",
   "execution_count": null,
   "metadata": {},
   "outputs": [],
   "source": [
    "epsilon1_dye2 = ## ENTER PARTNER'S DATA HERE\n",
    "epsilon2_dye2 = ## ENTER PARTNER'S DATA HERE"
   ]
  },
  {
   "cell_type": "markdown",
   "metadata": {},
   "source": [
    "**Question 6.6** Use your answers to Questions 6.3-5 to calculate the concentrations (and uncertainties!) of Red #40 and Yellow #5 in your unknown sports drink sample. You may assume for the purposes of this question that the standard deviations from the covariance matrices give reasonable estimates of the uncertainties in the molar absorptivities and that the absorbances are known to arbitrary precision.\n",
    "\n",
    "Check your answers with your partner and GSI."
   ]
  },
  {
   "cell_type": "code",
   "execution_count": null,
   "metadata": {},
   "outputs": [],
   "source": [
    "# students will need to solve the system of equations below by substituting\n",
    "# the observed absorbances of their unknown for unknown_Abs1 and unknown_Abs2\n",
    "# and solving for conc_dye1 and conc_dye2\n",
    "unknown_Abs1 = (epsilon1 * conc_dye1) + (epsilon1_dye2 * conc_dye2)\n",
    "unknown_Abs2 = (epsilon2 * conc_dye1) + (epsilon2_dye2 * conc_dye2)\n",
    "\n",
    "# they should propagate the error in the epsilon values corresponding to\n",
    "# any calculations they perform in solving for conc_dye1 and conc_dye2"
   ]
  },
  {
   "cell_type": "markdown",
   "metadata": {},
   "source": [
    "**Question 6.7** How would your answers to Question 6.6 be different (higher or lower) if you had used an empty cuvette instead of one filled with water to \"blank\" the spectrophotometer?\n"
   ]
  },
  {
   "cell_type": "raw",
   "metadata": {},
   "source": [
    "Because the absorbance of an empty cuvette would be much lower than that filled with water, the dyes in the sports drink samples would, by contrast, appear to absorb much more light than they actually did. Thus, the concentrations calculated in Question 6.6 would be artificially high."
   ]
  },
  {
   "cell_type": "markdown",
   "metadata": {},
   "source": [
    "**Question 6.8** Atmospheric scientists rarely worry about dye concentrations in sports drinks. How might the concepts in this experiment be relevant to atmospheric science? Be specific.\n"
   ]
  },
  {
   "cell_type": "raw",
   "metadata": {},
   "source": [
    "Student answers will vary, but will hopefully reference the utility of absorbance measurements in remote and/or in situ measurements of the concentrations of atmopsheric species."
   ]
  }
 ],
 "metadata": {
  "kernelspec": {
   "display_name": "Python 3",
   "language": "python",
   "name": "python3"
  },
  "language_info": {
   "codemirror_mode": {
    "name": "ipython",
    "version": 3
   },
   "file_extension": ".py",
   "mimetype": "text/x-python",
   "name": "python",
   "nbconvert_exporter": "python",
   "pygments_lexer": "ipython3",
   "version": "3.7.4"
  }
 },
 "nbformat": 4,
 "nbformat_minor": 2
}
