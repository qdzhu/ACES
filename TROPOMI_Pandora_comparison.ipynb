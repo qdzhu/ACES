{
 "cells": [
  {
   "cell_type": "markdown",
   "id": "cd7c4762",
   "metadata": {},
   "source": [
    "# Get TROPOMI data"
   ]
  },
  {
   "cell_type": "code",
   "execution_count": 1,
   "id": "ef7fcd5b",
   "metadata": {},
   "outputs": [
    {
     "name": "stdout",
     "output_type": "stream",
     "text": [
      "[['nan' 'nan' 'nan' 'nan' 'nan' 'nan']\n",
      " ['nan' 'nan' 'nan' 'nan' 'nan' 'nan']\n",
      " ['-105.2418' '39.986176' '2.4904359e-05' '1.342167e-05' 'mol m-2'\n",
      "  '2019-06-07T18:56:56.014000Z']\n",
      " ...\n",
      " ['-105.23735' '39.988377' '8.214416e-05' '5.2048457e-05' 'mol m-2'\n",
      "  '2019-04-12T19:46:50.597000Z']\n",
      " ['nan' 'nan' 'nan' 'nan' 'nan' 'nan']\n",
      " ['nan' 'nan' 'nan' 'nan' 'nan' 'nan']]\n"
     ]
    }
   ],
   "source": [
    "import numpy as np\n",
    "import pandas as pd\n",
    "boulder = np.load(\"Boulder3.npy\",allow_pickle = True)\n",
    "Greenbelt = np.load(\"Greenbelt.npy\",allow_pickle = True)\n",
    "print(boulder)"
   ]
  },
  {
   "cell_type": "code",
   "execution_count": 129,
   "id": "5d70d8e1",
   "metadata": {},
   "outputs": [],
   "source": [
    "def get_df(city):\n",
    "    NO2_trop_col = []\n",
    "    time = []\n",
    "    uncertainty = []\n",
    "    lat = []\n",
    "    lon = []\n",
    "    for i in city:\n",
    "        if i[0] != i[1]:\n",
    "            if float(i[2])>=0:\n",
    "                time.append(i[5])\n",
    "                NO2_trop_col.append(float(i[2])*6.02e19)\n",
    "                uncertainty.append(float(i[3])*6.02e19)\n",
    "                lat.append(float(i[1]))\n",
    "                lon.append(float(i[0]))\n",
    "        else:\n",
    "            pass\n",
    "    city_df = pd.DataFrame({'timestamp':time,'NO2_trop_col':NO2_trop_col,'uncertainty':uncertainty,'lon':lon,'lat':lat})\n",
    "    city_df['timestamp'] = pd.to_datetime(city_df['timestamp'], format='%Y-%m-%dT%H:%M:%S.%fZ')\n",
    "    city_df = city_df.sort_values(by = 'timestamp')\n",
    "    city_df = city_df[(city_df['timestamp']>='20190101')&(city_df['timestamp']<='201912312359')]\n",
    "    city_group = city_df.groupby(pd.Grouper(key='timestamp',freq='1D'))\n",
    "    city_avg = city_group.mean()\n",
    "    city_avg = city_avg.reset_index()\n",
    "    city_avg = city_avg.dropna()\n",
    "    return city_avg"
   ]
  },
  {
   "cell_type": "code",
   "execution_count": 130,
   "id": "43bcd966",
   "metadata": {},
   "outputs": [],
   "source": [
    "def get_df2(city):\n",
    "    NO2_trop_col = []\n",
    "    time = []\n",
    "    uncertainty = []\n",
    "    lat = []\n",
    "    lon = []\n",
    "    for i in city:\n",
    "        if i[0] != i[1]:\n",
    "            if float(i[2])>=0:\n",
    "                time.append(i[4])\n",
    "                NO2_trop_col.append(float(i[2])*6.02e19)\n",
    "                uncertainty.append(float(i[3])*6.02e19)\n",
    "                lat.append(float(i[1]))\n",
    "                lon.append(float(i[0]))\n",
    "        else:\n",
    "            pass\n",
    "    city_df = pd.DataFrame({'timestamp':time,'NO2_trop_col':NO2_trop_col,'uncertainty':uncertainty,'lon':lon,'lat':lat})\n",
    "    city_df['timestamp'] = pd.to_datetime(city_df['timestamp'], format='%Y-%m-%dT%H:%M:%S.%fZ')\n",
    "    city_df = city_df.sort_values(by = 'timestamp')\n",
    "    city_df = city_df[(city_df['timestamp']>='20190101')&(city_df['timestamp']<='201912312359')]\n",
    "    city_group = city_df.groupby(pd.Grouper(key='timestamp',freq='1D'))\n",
    "    city_avg = city_group.mean()\n",
    "    city_avg = city_avg.reset_index()\n",
    "    city_avg = city_avg.dropna()\n",
    "    return city_df"
   ]
  },
  {
   "cell_type": "code",
   "execution_count": 164,
   "id": "4938790a",
   "metadata": {},
   "outputs": [],
   "source": [
    "Boulder_tr = get_df(boulder)\n",
    "Greenbelt_tr = get_df2(Greenbelt)"
   ]
  },
  {
   "cell_type": "code",
   "execution_count": 165,
   "id": "35cae812",
   "metadata": {},
   "outputs": [
    {
     "data": {
      "text/html": [
       "<div>\n",
       "<style scoped>\n",
       "    .dataframe tbody tr th:only-of-type {\n",
       "        vertical-align: middle;\n",
       "    }\n",
       "\n",
       "    .dataframe tbody tr th {\n",
       "        vertical-align: top;\n",
       "    }\n",
       "\n",
       "    .dataframe thead th {\n",
       "        text-align: right;\n",
       "    }\n",
       "</style>\n",
       "<table border=\"1\" class=\"dataframe\">\n",
       "  <thead>\n",
       "    <tr style=\"text-align: right;\">\n",
       "      <th></th>\n",
       "      <th>timestamp</th>\n",
       "      <th>NO2_trop_col</th>\n",
       "      <th>uncertainty</th>\n",
       "      <th>lon</th>\n",
       "      <th>lat</th>\n",
       "    </tr>\n",
       "  </thead>\n",
       "  <tbody>\n",
       "    <tr>\n",
       "      <th>0</th>\n",
       "      <td>2019-01-01</td>\n",
       "      <td>7.264647e+15</td>\n",
       "      <td>5.962795e+15</td>\n",
       "      <td>-105.250244</td>\n",
       "      <td>39.995766</td>\n",
       "    </tr>\n",
       "    <tr>\n",
       "      <th>1</th>\n",
       "      <td>2019-01-02</td>\n",
       "      <td>7.198784e+15</td>\n",
       "      <td>1.318731e+16</td>\n",
       "      <td>-105.267050</td>\n",
       "      <td>40.008860</td>\n",
       "    </tr>\n",
       "    <tr>\n",
       "      <th>2</th>\n",
       "      <td>2019-01-03</td>\n",
       "      <td>6.425771e+15</td>\n",
       "      <td>1.396132e+16</td>\n",
       "      <td>-105.269260</td>\n",
       "      <td>39.997772</td>\n",
       "    </tr>\n",
       "    <tr>\n",
       "      <th>3</th>\n",
       "      <td>2019-01-04</td>\n",
       "      <td>6.018577e+15</td>\n",
       "      <td>2.438232e+15</td>\n",
       "      <td>-105.265080</td>\n",
       "      <td>40.000370</td>\n",
       "    </tr>\n",
       "    <tr>\n",
       "      <th>4</th>\n",
       "      <td>2019-01-05</td>\n",
       "      <td>5.335356e+15</td>\n",
       "      <td>2.038719e+15</td>\n",
       "      <td>-105.246570</td>\n",
       "      <td>39.981840</td>\n",
       "    </tr>\n",
       "    <tr>\n",
       "      <th>...</th>\n",
       "      <td>...</td>\n",
       "      <td>...</td>\n",
       "      <td>...</td>\n",
       "      <td>...</td>\n",
       "      <td>...</td>\n",
       "    </tr>\n",
       "    <tr>\n",
       "      <th>359</th>\n",
       "      <td>2019-12-26</td>\n",
       "      <td>1.869023e+15</td>\n",
       "      <td>1.500319e+15</td>\n",
       "      <td>-105.285132</td>\n",
       "      <td>39.984256</td>\n",
       "    </tr>\n",
       "    <tr>\n",
       "      <th>360</th>\n",
       "      <td>2019-12-27</td>\n",
       "      <td>3.145719e+15</td>\n",
       "      <td>1.806161e+15</td>\n",
       "      <td>-105.270140</td>\n",
       "      <td>40.000170</td>\n",
       "    </tr>\n",
       "    <tr>\n",
       "      <th>362</th>\n",
       "      <td>2019-12-29</td>\n",
       "      <td>4.957944e+15</td>\n",
       "      <td>4.278642e+15</td>\n",
       "      <td>-105.247780</td>\n",
       "      <td>39.999626</td>\n",
       "    </tr>\n",
       "    <tr>\n",
       "      <th>363</th>\n",
       "      <td>2019-12-30</td>\n",
       "      <td>9.304563e+15</td>\n",
       "      <td>1.598192e+16</td>\n",
       "      <td>-105.248350</td>\n",
       "      <td>39.968925</td>\n",
       "    </tr>\n",
       "    <tr>\n",
       "      <th>364</th>\n",
       "      <td>2019-12-31</td>\n",
       "      <td>3.235326e+15</td>\n",
       "      <td>5.872505e+15</td>\n",
       "      <td>-105.244690</td>\n",
       "      <td>39.996034</td>\n",
       "    </tr>\n",
       "  </tbody>\n",
       "</table>\n",
       "<p>343 rows × 5 columns</p>\n",
       "</div>"
      ],
      "text/plain": [
       "     timestamp  NO2_trop_col   uncertainty         lon        lat\n",
       "0   2019-01-01  7.264647e+15  5.962795e+15 -105.250244  39.995766\n",
       "1   2019-01-02  7.198784e+15  1.318731e+16 -105.267050  40.008860\n",
       "2   2019-01-03  6.425771e+15  1.396132e+16 -105.269260  39.997772\n",
       "3   2019-01-04  6.018577e+15  2.438232e+15 -105.265080  40.000370\n",
       "4   2019-01-05  5.335356e+15  2.038719e+15 -105.246570  39.981840\n",
       "..         ...           ...           ...         ...        ...\n",
       "359 2019-12-26  1.869023e+15  1.500319e+15 -105.285132  39.984256\n",
       "360 2019-12-27  3.145719e+15  1.806161e+15 -105.270140  40.000170\n",
       "362 2019-12-29  4.957944e+15  4.278642e+15 -105.247780  39.999626\n",
       "363 2019-12-30  9.304563e+15  1.598192e+16 -105.248350  39.968925\n",
       "364 2019-12-31  3.235326e+15  5.872505e+15 -105.244690  39.996034\n",
       "\n",
       "[343 rows x 5 columns]"
      ]
     },
     "execution_count": 165,
     "metadata": {},
     "output_type": "execute_result"
    }
   ],
   "source": [
    "Boulder_tr"
   ]
  },
  {
   "cell_type": "markdown",
   "id": "d39e9ccb",
   "metadata": {},
   "source": [
    "# Get Pandora Data"
   ]
  },
  {
   "cell_type": "code",
   "execution_count": 42,
   "id": "7bbd0fbb",
   "metadata": {},
   "outputs": [
    {
     "data": {
      "text/plain": [
       "'C:\\\\Users\\\\张心怡\\\\Documents\\\\gitpull\\\\ACES'"
      ]
     },
     "execution_count": 42,
     "metadata": {},
     "output_type": "execute_result"
    }
   ],
   "source": [
    "import os\n",
    "os.getcwd()"
   ]
  },
  {
   "cell_type": "code",
   "execution_count": 6,
   "id": "9453f8cb",
   "metadata": {},
   "outputs": [],
   "source": [
    "import numpy as np\n",
    "import pandas as pd\n",
    "from pandas.core.frame import DataFrame\n",
    "import matplotlib.pyplot as plt\n",
    "def get_pandora_data(filename):\n",
    "    fp=open(filename)\n",
    "    lines = fp.readlines()\n",
    "    line_list = []\n",
    "    lat_raw = lines[14]\n",
    "    lon_raw = lines[15]\n",
    "    lat = float(lat_raw.split()[-1])\n",
    "    lon = float(lon_raw.split()[-1])\n",
    "    del lines[0:59]\n",
    "    for i in lines:\n",
    "        line = i.split()\n",
    "        line[7] = float(line[7])\n",
    "        line[8] = float(line[8])\n",
    "        if len(line[0])<=16:\n",
    "            line_list.append(line)\n",
    "        elif len(line[0])>16:\n",
    "            line[0] = line[0][0:15]+'Z'\n",
    "    for i in range(len(line_list)):\n",
    "        if line_list[i][7] < 0:\n",
    "            line_list[i][7] = np.NaN\n",
    "        if line_list[i][7] > 1e99:\n",
    "            line_list[i][7] = np.NaN\n",
    "    for i in range(len(line_list)):\n",
    "        if abs(line_list[i][8]) >= 1:\n",
    "            line_list[i][8] = np.NaN\n",
    "    line_df = DataFrame(line_list)\n",
    "    line_df = line_df[[0,7,8]]\n",
    "    line_df['timestamp'] = pd.to_datetime(line_df[0],format='%Y%m%dT%H%M%SZ',errors = 'coerce')\n",
    "    line_df['NO2_tot_col'] = line_df[7]*2.687e16\n",
    "    line_df['NO2_uncertainty'] = line_df[8]*2.687e16 ##changing the units into mol/m^2\n",
    "    line_df = line_df[['timestamp','NO2_tot_col','NO2_uncertainty']]\n",
    "    line_df['lon'] = lon\n",
    "    line_df['lat'] = lat\n",
    "    line_df = line_df.dropna()\n",
    "    return line_df"
   ]
  },
  {
   "cell_type": "code",
   "execution_count": 51,
   "id": "aa6edea3",
   "metadata": {},
   "outputs": [],
   "source": [
    "def get_pandora_data_trop(filename):\n",
    "    fp=open(filename)\n",
    "    lines = fp.readlines()\n",
    "    line_list = []\n",
    "    lat_raw = lines[14]\n",
    "    lon_raw = lines[15]\n",
    "    lat = float(lat_raw.split()[-1])\n",
    "    lon = float(lon_raw.split()[-1])\n",
    "    del lines[0:92]\n",
    "    for i in lines:\n",
    "        line = i.split()\n",
    "        line[19] = float(line[19])\n",
    "        line[20] = float(line[20])\n",
    "        if len(line[0])<=16:\n",
    "            line_list.append(line)\n",
    "        elif len(line[0])>16:\n",
    "            line[0] = line[0][0:15]+'Z'\n",
    "    for i in range(len(line_list)):\n",
    "        if line_list[i][19] < 0:\n",
    "            line_list[i][19] = np.NaN\n",
    "        if line_list[i][19] > 1e99:\n",
    "            line_list[i][19] = np.NaN\n",
    "    for i in range(len(line_list)):\n",
    "        if abs(line_list[i][20]) >= 1:\n",
    "            line_list[i][20] = np.NaN\n",
    "    line_df = DataFrame(line_list)\n",
    "    line_df = line_df[[0,19,20]]\n",
    "    line_df['timestamp'] = pd.to_datetime(line_df[0],format='%Y%m%dT%H%M%SZ',errors = 'coerce')\n",
    "    line_df['NO2_trop_col'] = line_df[19]*2.687e16\n",
    "    line_df['NO2_uncertainty'] = line_df[20]*2.687e16 ##changing the units into mol/m^2\n",
    "    line_df = line_df[['timestamp','NO2_trop_col','NO2_uncertainty']]\n",
    "    line_df['lon'] = lon\n",
    "    line_df['lat'] = lat\n",
    "    line_df = line_df.dropna()\n",
    "    return line_df"
   ]
  },
  {
   "cell_type": "code",
   "execution_count": 133,
   "id": "c5c37021",
   "metadata": {},
   "outputs": [],
   "source": [
    "Boulder_pa = get_pandora_data('Pandora57s1_BoulderCO_L2Tot_rnvs1p1-7.txt')"
   ]
  },
  {
   "cell_type": "code",
   "execution_count": 134,
   "id": "0155b191",
   "metadata": {},
   "outputs": [],
   "source": [
    "Boulder_pa_trop = get_pandora_data_trop('Pandora57s1_BoulderCO_L2Trop_rnvh1p1-7.txt')"
   ]
  },
  {
   "cell_type": "code",
   "execution_count": 166,
   "id": "70254d6e",
   "metadata": {},
   "outputs": [],
   "source": [
    "Greenbelt_pa = get_pandora_data('Pandora32s1_GreenbeltMD_L2Tot_rnvs0p1-5.txt')"
   ]
  },
  {
   "cell_type": "code",
   "execution_count": 167,
   "id": "14ca62c0",
   "metadata": {},
   "outputs": [],
   "source": [
    "Greenbelt_pa_trop = get_pandora_data_trop('Pandora32s1_GreenbeltMD_L2Trop_rnvh1p1-7.txt')"
   ]
  },
  {
   "cell_type": "code",
   "execution_count": 8,
   "id": "28a7b64d",
   "metadata": {},
   "outputs": [],
   "source": [
    "import datetime\n",
    "from datetime import datetime\n",
    "import pytz\n",
    "from datetime import datetime, timedelta, timezone\n",
    "import time\n",
    "import seaborn as sns"
   ]
  },
  {
   "cell_type": "code",
   "execution_count": 12,
   "id": "6b3e6da8",
   "metadata": {},
   "outputs": [],
   "source": [
    "def time_process(city):\n",
    "    city = city[(city['timestamp']>='20190101')&(city['timestamp']<='201912312359')]\n",
    "    return city"
   ]
  },
  {
   "cell_type": "code",
   "execution_count": 54,
   "id": "1a5d2a0b",
   "metadata": {},
   "outputs": [],
   "source": [
    "import math\n",
    "def sort_and_avg(city,tz):\n",
    "    time_mask = (city['timestamp'].dt.hour >= 13+tz) & (city['timestamp'].dt.hour <= 13+tz)\n",
    "    city_passby = city[time_mask]\n",
    "    city_passby_group = city_passby.groupby(pd.Grouper(key='timestamp',freq='1D'))\n",
    "    city_passby_avg = city_passby_group.mean()\n",
    "    city_passby_size = city_passby_group.size()\n",
    "    unct_sum = city_passby_group['NO2_uncertainty'].sum()\n",
    "    unct_var = city_passby_group['NO2_uncertainty'].var()\n",
    "    for i in range(len(city_passby_avg)):\n",
    "        city_passby_avg['NO2_uncertainty'][i] = math.sqrt((city_passby_size[i]*unct_var[i] + (unct_sum[i]**2)/city_passby_size[i])/city_passby_size[i]**2)\n",
    "    city_passby_avg = city_passby_avg.dropna()\n",
    "    city_passby_avg = city_passby_avg.reset_index()\n",
    "    return city_passby_avg"
   ]
  },
  {
   "cell_type": "code",
   "execution_count": 137,
   "id": "0f7a2721",
   "metadata": {},
   "outputs": [
    {
     "name": "stderr",
     "output_type": "stream",
     "text": [
      "C:\\Users\\张心怡\\AppData\\Local\\Temp/ipykernel_8996/3057100769.py:11: RuntimeWarning: invalid value encountered in double_scalars\n",
      "  city_passby_avg['NO2_uncertainty'][i] = math.sqrt((city_passby_size[i]*unct_var[i] + (unct_sum[i]**2)/city_passby_size[i])/city_passby_size[i]**2)\n"
     ]
    },
    {
     "data": {
      "text/html": [
       "<div>\n",
       "<style scoped>\n",
       "    .dataframe tbody tr th:only-of-type {\n",
       "        vertical-align: middle;\n",
       "    }\n",
       "\n",
       "    .dataframe tbody tr th {\n",
       "        vertical-align: top;\n",
       "    }\n",
       "\n",
       "    .dataframe thead th {\n",
       "        text-align: right;\n",
       "    }\n",
       "</style>\n",
       "<table border=\"1\" class=\"dataframe\">\n",
       "  <thead>\n",
       "    <tr style=\"text-align: right;\">\n",
       "      <th></th>\n",
       "      <th>timestamp</th>\n",
       "      <th>NO2_tot_col</th>\n",
       "      <th>NO2_uncertainty</th>\n",
       "      <th>lon</th>\n",
       "      <th>lat</th>\n",
       "    </tr>\n",
       "  </thead>\n",
       "  <tbody>\n",
       "    <tr>\n",
       "      <th>0</th>\n",
       "      <td>2019-01-01</td>\n",
       "      <td>1.133358e+16</td>\n",
       "      <td>2.431905e+14</td>\n",
       "      <td>-105.26</td>\n",
       "      <td>39.99</td>\n",
       "    </tr>\n",
       "    <tr>\n",
       "      <th>1</th>\n",
       "      <td>2019-01-02</td>\n",
       "      <td>7.437461e+15</td>\n",
       "      <td>4.202879e+12</td>\n",
       "      <td>-105.26</td>\n",
       "      <td>39.99</td>\n",
       "    </tr>\n",
       "    <tr>\n",
       "      <th>2</th>\n",
       "      <td>2019-01-03</td>\n",
       "      <td>7.029220e+15</td>\n",
       "      <td>4.448669e+12</td>\n",
       "      <td>-105.26</td>\n",
       "      <td>39.99</td>\n",
       "    </tr>\n",
       "    <tr>\n",
       "      <th>3</th>\n",
       "      <td>2019-01-04</td>\n",
       "      <td>5.420982e+15</td>\n",
       "      <td>4.758302e+13</td>\n",
       "      <td>-105.26</td>\n",
       "      <td>39.99</td>\n",
       "    </tr>\n",
       "    <tr>\n",
       "      <th>4</th>\n",
       "      <td>2019-01-05</td>\n",
       "      <td>6.895346e+15</td>\n",
       "      <td>1.780905e+13</td>\n",
       "      <td>-105.26</td>\n",
       "      <td>39.99</td>\n",
       "    </tr>\n",
       "    <tr>\n",
       "      <th>...</th>\n",
       "      <td>...</td>\n",
       "      <td>...</td>\n",
       "      <td>...</td>\n",
       "      <td>...</td>\n",
       "      <td>...</td>\n",
       "    </tr>\n",
       "    <tr>\n",
       "      <th>312</th>\n",
       "      <td>2019-12-22</td>\n",
       "      <td>3.833805e+15</td>\n",
       "      <td>1.744078e+14</td>\n",
       "      <td>-105.26</td>\n",
       "      <td>39.99</td>\n",
       "    </tr>\n",
       "    <tr>\n",
       "      <th>313</th>\n",
       "      <td>2019-12-23</td>\n",
       "      <td>7.433291e+15</td>\n",
       "      <td>3.304516e+14</td>\n",
       "      <td>-105.26</td>\n",
       "      <td>39.99</td>\n",
       "    </tr>\n",
       "    <tr>\n",
       "      <th>314</th>\n",
       "      <td>2019-12-24</td>\n",
       "      <td>4.407117e+15</td>\n",
       "      <td>7.621511e+13</td>\n",
       "      <td>-105.26</td>\n",
       "      <td>39.99</td>\n",
       "    </tr>\n",
       "    <tr>\n",
       "      <th>315</th>\n",
       "      <td>2019-12-30</td>\n",
       "      <td>1.234269e+16</td>\n",
       "      <td>7.903948e+12</td>\n",
       "      <td>-105.26</td>\n",
       "      <td>39.99</td>\n",
       "    </tr>\n",
       "    <tr>\n",
       "      <th>316</th>\n",
       "      <td>2019-12-31</td>\n",
       "      <td>1.030868e+15</td>\n",
       "      <td>4.591244e+13</td>\n",
       "      <td>-105.26</td>\n",
       "      <td>39.99</td>\n",
       "    </tr>\n",
       "  </tbody>\n",
       "</table>\n",
       "<p>317 rows × 5 columns</p>\n",
       "</div>"
      ],
      "text/plain": [
       "     timestamp   NO2_tot_col  NO2_uncertainty     lon    lat\n",
       "0   2019-01-01  1.133358e+16     2.431905e+14 -105.26  39.99\n",
       "1   2019-01-02  7.437461e+15     4.202879e+12 -105.26  39.99\n",
       "2   2019-01-03  7.029220e+15     4.448669e+12 -105.26  39.99\n",
       "3   2019-01-04  5.420982e+15     4.758302e+13 -105.26  39.99\n",
       "4   2019-01-05  6.895346e+15     1.780905e+13 -105.26  39.99\n",
       "..         ...           ...              ...     ...    ...\n",
       "312 2019-12-22  3.833805e+15     1.744078e+14 -105.26  39.99\n",
       "313 2019-12-23  7.433291e+15     3.304516e+14 -105.26  39.99\n",
       "314 2019-12-24  4.407117e+15     7.621511e+13 -105.26  39.99\n",
       "315 2019-12-30  1.234269e+16     7.903948e+12 -105.26  39.99\n",
       "316 2019-12-31  1.030868e+15     4.591244e+13 -105.26  39.99\n",
       "\n",
       "[317 rows x 5 columns]"
      ]
     },
     "execution_count": 137,
     "metadata": {},
     "output_type": "execute_result"
    }
   ],
   "source": [
    "Boulder_pa = time_process(Boulder_pa)\n",
    "Boulder_pa = sort_and_avg(Boulder_pa,6)\n",
    "Boulder_pa"
   ]
  },
  {
   "cell_type": "code",
   "execution_count": 138,
   "id": "4d142f96",
   "metadata": {},
   "outputs": [
    {
     "data": {
      "text/html": [
       "<div>\n",
       "<style scoped>\n",
       "    .dataframe tbody tr th:only-of-type {\n",
       "        vertical-align: middle;\n",
       "    }\n",
       "\n",
       "    .dataframe tbody tr th {\n",
       "        vertical-align: top;\n",
       "    }\n",
       "\n",
       "    .dataframe thead th {\n",
       "        text-align: right;\n",
       "    }\n",
       "</style>\n",
       "<table border=\"1\" class=\"dataframe\">\n",
       "  <thead>\n",
       "    <tr style=\"text-align: right;\">\n",
       "      <th></th>\n",
       "      <th>timestamp</th>\n",
       "      <th>NO2_trop_col</th>\n",
       "      <th>NO2_uncertainty</th>\n",
       "      <th>lon</th>\n",
       "      <th>lat</th>\n",
       "    </tr>\n",
       "  </thead>\n",
       "  <tbody>\n",
       "    <tr>\n",
       "      <th>0</th>\n",
       "      <td>2019-12-30</td>\n",
       "      <td>1.258537e+16</td>\n",
       "      <td>4.868251e+14</td>\n",
       "      <td>-105.26</td>\n",
       "      <td>39.99</td>\n",
       "    </tr>\n",
       "    <tr>\n",
       "      <th>1</th>\n",
       "      <td>2019-12-31</td>\n",
       "      <td>6.838449e+13</td>\n",
       "      <td>4.428866e+13</td>\n",
       "      <td>-105.26</td>\n",
       "      <td>39.99</td>\n",
       "    </tr>\n",
       "  </tbody>\n",
       "</table>\n",
       "</div>"
      ],
      "text/plain": [
       "   timestamp  NO2_trop_col  NO2_uncertainty     lon    lat\n",
       "0 2019-12-30  1.258537e+16     4.868251e+14 -105.26  39.99\n",
       "1 2019-12-31  6.838449e+13     4.428866e+13 -105.26  39.99"
      ]
     },
     "execution_count": 138,
     "metadata": {},
     "output_type": "execute_result"
    }
   ],
   "source": [
    "Boulder_pa_trop = time_process(Boulder_pa_trop)\n",
    "Boulder_pa_trop = sort_and_avg(Boulder_pa_trop,6)\n",
    "Boulder_pa_trop"
   ]
  },
  {
   "cell_type": "code",
   "execution_count": 22,
   "id": "4b94fbfd",
   "metadata": {},
   "outputs": [
    {
     "data": {
      "text/plain": [
       "0     2019-01-01\n",
       "1     2019-01-02\n",
       "2     2019-01-03\n",
       "3     2019-01-04\n",
       "4     2019-01-05\n",
       "         ...    \n",
       "312   2019-12-22\n",
       "313   2019-12-23\n",
       "314   2019-12-24\n",
       "315   2019-12-30\n",
       "316   2019-12-31\n",
       "Name: timestamp, Length: 317, dtype: datetime64[ns]"
      ]
     },
     "execution_count": 22,
     "metadata": {},
     "output_type": "execute_result"
    }
   ],
   "source": [
    "Boulder_pa['timestamp']"
   ]
  },
  {
   "cell_type": "code",
   "execution_count": 168,
   "id": "4d512535",
   "metadata": {},
   "outputs": [
    {
     "name": "stderr",
     "output_type": "stream",
     "text": [
      "C:\\Users\\张心怡\\AppData\\Local\\Temp/ipykernel_8996/3057100769.py:11: RuntimeWarning: invalid value encountered in double_scalars\n",
      "  city_passby_avg['NO2_uncertainty'][i] = math.sqrt((city_passby_size[i]*unct_var[i] + (unct_sum[i]**2)/city_passby_size[i])/city_passby_size[i]**2)\n"
     ]
    },
    {
     "data": {
      "text/html": [
       "<div>\n",
       "<style scoped>\n",
       "    .dataframe tbody tr th:only-of-type {\n",
       "        vertical-align: middle;\n",
       "    }\n",
       "\n",
       "    .dataframe tbody tr th {\n",
       "        vertical-align: top;\n",
       "    }\n",
       "\n",
       "    .dataframe thead th {\n",
       "        text-align: right;\n",
       "    }\n",
       "</style>\n",
       "<table border=\"1\" class=\"dataframe\">\n",
       "  <thead>\n",
       "    <tr style=\"text-align: right;\">\n",
       "      <th></th>\n",
       "      <th>timestamp</th>\n",
       "      <th>NO2_tot_col</th>\n",
       "      <th>NO2_uncertainty</th>\n",
       "      <th>lon</th>\n",
       "      <th>lat</th>\n",
       "    </tr>\n",
       "  </thead>\n",
       "  <tbody>\n",
       "    <tr>\n",
       "      <th>0</th>\n",
       "      <td>2019-01-01</td>\n",
       "      <td>4.181767e+15</td>\n",
       "      <td>1.847164e+15</td>\n",
       "      <td>-76.8396</td>\n",
       "      <td>38.9926</td>\n",
       "    </tr>\n",
       "    <tr>\n",
       "      <th>1</th>\n",
       "      <td>2019-01-02</td>\n",
       "      <td>8.033237e+15</td>\n",
       "      <td>1.212713e+14</td>\n",
       "      <td>-76.8396</td>\n",
       "      <td>38.9926</td>\n",
       "    </tr>\n",
       "    <tr>\n",
       "      <th>2</th>\n",
       "      <td>2019-01-03</td>\n",
       "      <td>7.924072e+15</td>\n",
       "      <td>8.403104e+14</td>\n",
       "      <td>-76.8396</td>\n",
       "      <td>38.9926</td>\n",
       "    </tr>\n",
       "    <tr>\n",
       "      <th>3</th>\n",
       "      <td>2019-01-04</td>\n",
       "      <td>9.179150e+15</td>\n",
       "      <td>4.666213e+14</td>\n",
       "      <td>-76.8396</td>\n",
       "      <td>38.9926</td>\n",
       "    </tr>\n",
       "    <tr>\n",
       "      <th>4</th>\n",
       "      <td>2019-01-05</td>\n",
       "      <td>1.376784e+16</td>\n",
       "      <td>2.376921e+15</td>\n",
       "      <td>-76.8396</td>\n",
       "      <td>38.9926</td>\n",
       "    </tr>\n",
       "    <tr>\n",
       "      <th>...</th>\n",
       "      <td>...</td>\n",
       "      <td>...</td>\n",
       "      <td>...</td>\n",
       "      <td>...</td>\n",
       "      <td>...</td>\n",
       "    </tr>\n",
       "    <tr>\n",
       "      <th>295</th>\n",
       "      <td>2019-12-26</td>\n",
       "      <td>1.035001e+16</td>\n",
       "      <td>1.718622e+13</td>\n",
       "      <td>-76.8396</td>\n",
       "      <td>38.9926</td>\n",
       "    </tr>\n",
       "    <tr>\n",
       "      <th>296</th>\n",
       "      <td>2019-12-27</td>\n",
       "      <td>6.950313e+15</td>\n",
       "      <td>1.374391e+15</td>\n",
       "      <td>-76.8396</td>\n",
       "      <td>38.9926</td>\n",
       "    </tr>\n",
       "    <tr>\n",
       "      <th>297</th>\n",
       "      <td>2019-12-28</td>\n",
       "      <td>4.186195e+15</td>\n",
       "      <td>7.019601e+12</td>\n",
       "      <td>-76.8396</td>\n",
       "      <td>38.9926</td>\n",
       "    </tr>\n",
       "    <tr>\n",
       "      <th>298</th>\n",
       "      <td>2019-12-30</td>\n",
       "      <td>3.411146e+15</td>\n",
       "      <td>2.123116e+15</td>\n",
       "      <td>-76.8396</td>\n",
       "      <td>38.9926</td>\n",
       "    </tr>\n",
       "    <tr>\n",
       "      <th>299</th>\n",
       "      <td>2019-12-31</td>\n",
       "      <td>1.134969e+16</td>\n",
       "      <td>1.780776e+15</td>\n",
       "      <td>-76.8396</td>\n",
       "      <td>38.9926</td>\n",
       "    </tr>\n",
       "  </tbody>\n",
       "</table>\n",
       "<p>300 rows × 5 columns</p>\n",
       "</div>"
      ],
      "text/plain": [
       "     timestamp   NO2_tot_col  NO2_uncertainty      lon      lat\n",
       "0   2019-01-01  4.181767e+15     1.847164e+15 -76.8396  38.9926\n",
       "1   2019-01-02  8.033237e+15     1.212713e+14 -76.8396  38.9926\n",
       "2   2019-01-03  7.924072e+15     8.403104e+14 -76.8396  38.9926\n",
       "3   2019-01-04  9.179150e+15     4.666213e+14 -76.8396  38.9926\n",
       "4   2019-01-05  1.376784e+16     2.376921e+15 -76.8396  38.9926\n",
       "..         ...           ...              ...      ...      ...\n",
       "295 2019-12-26  1.035001e+16     1.718622e+13 -76.8396  38.9926\n",
       "296 2019-12-27  6.950313e+15     1.374391e+15 -76.8396  38.9926\n",
       "297 2019-12-28  4.186195e+15     7.019601e+12 -76.8396  38.9926\n",
       "298 2019-12-30  3.411146e+15     2.123116e+15 -76.8396  38.9926\n",
       "299 2019-12-31  1.134969e+16     1.780776e+15 -76.8396  38.9926\n",
       "\n",
       "[300 rows x 5 columns]"
      ]
     },
     "execution_count": 168,
     "metadata": {},
     "output_type": "execute_result"
    }
   ],
   "source": [
    "Greenbelt_pa = time_process(Greenbelt_pa)\n",
    "Greenbelt_pa = sort_and_avg(Greenbelt_pa,4)\n",
    "Greenbelt_pa"
   ]
  },
  {
   "cell_type": "code",
   "execution_count": 169,
   "id": "f4a53065",
   "metadata": {},
   "outputs": [
    {
     "name": "stderr",
     "output_type": "stream",
     "text": [
      "C:\\Users\\张心怡\\AppData\\Local\\Temp/ipykernel_8996/3057100769.py:11: RuntimeWarning: invalid value encountered in double_scalars\n",
      "  city_passby_avg['NO2_uncertainty'][i] = math.sqrt((city_passby_size[i]*unct_var[i] + (unct_sum[i]**2)/city_passby_size[i])/city_passby_size[i]**2)\n"
     ]
    },
    {
     "data": {
      "text/html": [
       "<div>\n",
       "<style scoped>\n",
       "    .dataframe tbody tr th:only-of-type {\n",
       "        vertical-align: middle;\n",
       "    }\n",
       "\n",
       "    .dataframe tbody tr th {\n",
       "        vertical-align: top;\n",
       "    }\n",
       "\n",
       "    .dataframe thead th {\n",
       "        text-align: right;\n",
       "    }\n",
       "</style>\n",
       "<table border=\"1\" class=\"dataframe\">\n",
       "  <thead>\n",
       "    <tr style=\"text-align: right;\">\n",
       "      <th></th>\n",
       "      <th>timestamp</th>\n",
       "      <th>NO2_trop_col</th>\n",
       "      <th>NO2_uncertainty</th>\n",
       "      <th>lon</th>\n",
       "      <th>lat</th>\n",
       "    </tr>\n",
       "  </thead>\n",
       "  <tbody>\n",
       "    <tr>\n",
       "      <th>0</th>\n",
       "      <td>2019-03-28</td>\n",
       "      <td>2.661506e+15</td>\n",
       "      <td>2.067363e+14</td>\n",
       "      <td>-76.8396</td>\n",
       "      <td>38.9926</td>\n",
       "    </tr>\n",
       "    <tr>\n",
       "      <th>1</th>\n",
       "      <td>2019-03-29</td>\n",
       "      <td>7.395215e+15</td>\n",
       "      <td>4.936494e+14</td>\n",
       "      <td>-76.8396</td>\n",
       "      <td>38.9926</td>\n",
       "    </tr>\n",
       "    <tr>\n",
       "      <th>2</th>\n",
       "      <td>2019-05-28</td>\n",
       "      <td>2.286707e+15</td>\n",
       "      <td>1.767723e+14</td>\n",
       "      <td>-76.8396</td>\n",
       "      <td>38.9926</td>\n",
       "    </tr>\n",
       "    <tr>\n",
       "      <th>3</th>\n",
       "      <td>2019-05-30</td>\n",
       "      <td>4.192204e+15</td>\n",
       "      <td>3.701506e+14</td>\n",
       "      <td>-76.8396</td>\n",
       "      <td>38.9926</td>\n",
       "    </tr>\n",
       "    <tr>\n",
       "      <th>4</th>\n",
       "      <td>2019-06-02</td>\n",
       "      <td>2.253200e+15</td>\n",
       "      <td>1.840973e+14</td>\n",
       "      <td>-76.8396</td>\n",
       "      <td>38.9926</td>\n",
       "    </tr>\n",
       "    <tr>\n",
       "      <th>5</th>\n",
       "      <td>2019-06-03</td>\n",
       "      <td>2.120484e+15</td>\n",
       "      <td>2.216153e+14</td>\n",
       "      <td>-76.8396</td>\n",
       "      <td>38.9926</td>\n",
       "    </tr>\n",
       "    <tr>\n",
       "      <th>6</th>\n",
       "      <td>2019-06-05</td>\n",
       "      <td>3.297916e+15</td>\n",
       "      <td>2.695968e+14</td>\n",
       "      <td>-76.8396</td>\n",
       "      <td>38.9926</td>\n",
       "    </tr>\n",
       "    <tr>\n",
       "      <th>7</th>\n",
       "      <td>2019-06-06</td>\n",
       "      <td>2.362271e+15</td>\n",
       "      <td>2.371608e+14</td>\n",
       "      <td>-76.8396</td>\n",
       "      <td>38.9926</td>\n",
       "    </tr>\n",
       "    <tr>\n",
       "      <th>8</th>\n",
       "      <td>2019-06-07</td>\n",
       "      <td>1.603983e+15</td>\n",
       "      <td>1.314711e+14</td>\n",
       "      <td>-76.8396</td>\n",
       "      <td>38.9926</td>\n",
       "    </tr>\n",
       "    <tr>\n",
       "      <th>9</th>\n",
       "      <td>2019-06-08</td>\n",
       "      <td>1.299729e+15</td>\n",
       "      <td>1.083598e+14</td>\n",
       "      <td>-76.8396</td>\n",
       "      <td>38.9926</td>\n",
       "    </tr>\n",
       "    <tr>\n",
       "      <th>10</th>\n",
       "      <td>2019-06-09</td>\n",
       "      <td>7.182244e+14</td>\n",
       "      <td>8.268145e+13</td>\n",
       "      <td>-76.8396</td>\n",
       "      <td>38.9926</td>\n",
       "    </tr>\n",
       "    <tr>\n",
       "      <th>11</th>\n",
       "      <td>2019-06-10</td>\n",
       "      <td>2.225085e+15</td>\n",
       "      <td>5.828656e+14</td>\n",
       "      <td>-76.8396</td>\n",
       "      <td>38.9926</td>\n",
       "    </tr>\n",
       "    <tr>\n",
       "      <th>12</th>\n",
       "      <td>2019-06-11</td>\n",
       "      <td>1.263589e+15</td>\n",
       "      <td>1.099129e+14</td>\n",
       "      <td>-76.8396</td>\n",
       "      <td>38.9926</td>\n",
       "    </tr>\n",
       "    <tr>\n",
       "      <th>13</th>\n",
       "      <td>2019-06-12</td>\n",
       "      <td>1.353485e+15</td>\n",
       "      <td>9.199631e+13</td>\n",
       "      <td>-76.8396</td>\n",
       "      <td>38.9926</td>\n",
       "    </tr>\n",
       "    <tr>\n",
       "      <th>14</th>\n",
       "      <td>2019-06-14</td>\n",
       "      <td>1.918781e+15</td>\n",
       "      <td>1.855842e+14</td>\n",
       "      <td>-76.8396</td>\n",
       "      <td>38.9926</td>\n",
       "    </tr>\n",
       "    <tr>\n",
       "      <th>15</th>\n",
       "      <td>2019-06-15</td>\n",
       "      <td>1.777375e+15</td>\n",
       "      <td>9.479242e+13</td>\n",
       "      <td>-76.8396</td>\n",
       "      <td>38.9926</td>\n",
       "    </tr>\n",
       "    <tr>\n",
       "      <th>16</th>\n",
       "      <td>2019-06-16</td>\n",
       "      <td>1.636953e+15</td>\n",
       "      <td>1.155744e+14</td>\n",
       "      <td>-76.8396</td>\n",
       "      <td>38.9926</td>\n",
       "    </tr>\n",
       "    <tr>\n",
       "      <th>17</th>\n",
       "      <td>2019-06-17</td>\n",
       "      <td>7.399246e+15</td>\n",
       "      <td>3.223946e+15</td>\n",
       "      <td>-76.8396</td>\n",
       "      <td>38.9926</td>\n",
       "    </tr>\n",
       "    <tr>\n",
       "      <th>18</th>\n",
       "      <td>2019-06-18</td>\n",
       "      <td>5.170648e+15</td>\n",
       "      <td>5.106898e+14</td>\n",
       "      <td>-76.8396</td>\n",
       "      <td>38.9926</td>\n",
       "    </tr>\n",
       "    <tr>\n",
       "      <th>19</th>\n",
       "      <td>2019-06-19</td>\n",
       "      <td>3.617320e+15</td>\n",
       "      <td>5.061186e+14</td>\n",
       "      <td>-76.8396</td>\n",
       "      <td>38.9926</td>\n",
       "    </tr>\n",
       "    <tr>\n",
       "      <th>20</th>\n",
       "      <td>2019-06-20</td>\n",
       "      <td>2.315495e+15</td>\n",
       "      <td>2.808260e+14</td>\n",
       "      <td>-76.8396</td>\n",
       "      <td>38.9926</td>\n",
       "    </tr>\n",
       "    <tr>\n",
       "      <th>21</th>\n",
       "      <td>2019-06-21</td>\n",
       "      <td>1.660989e+15</td>\n",
       "      <td>1.587805e+14</td>\n",
       "      <td>-76.8396</td>\n",
       "      <td>38.9926</td>\n",
       "    </tr>\n",
       "    <tr>\n",
       "      <th>22</th>\n",
       "      <td>2019-06-22</td>\n",
       "      <td>1.379441e+15</td>\n",
       "      <td>1.549353e+14</td>\n",
       "      <td>-76.8396</td>\n",
       "      <td>38.9926</td>\n",
       "    </tr>\n",
       "    <tr>\n",
       "      <th>23</th>\n",
       "      <td>2019-06-23</td>\n",
       "      <td>1.739069e+15</td>\n",
       "      <td>2.138160e+14</td>\n",
       "      <td>-76.8396</td>\n",
       "      <td>38.9926</td>\n",
       "    </tr>\n",
       "    <tr>\n",
       "      <th>24</th>\n",
       "      <td>2019-06-24</td>\n",
       "      <td>3.008387e+15</td>\n",
       "      <td>3.096714e+14</td>\n",
       "      <td>-76.8396</td>\n",
       "      <td>38.9926</td>\n",
       "    </tr>\n",
       "    <tr>\n",
       "      <th>25</th>\n",
       "      <td>2019-06-26</td>\n",
       "      <td>2.715052e+15</td>\n",
       "      <td>3.750623e+14</td>\n",
       "      <td>-76.8396</td>\n",
       "      <td>38.9926</td>\n",
       "    </tr>\n",
       "    <tr>\n",
       "      <th>26</th>\n",
       "      <td>2019-06-27</td>\n",
       "      <td>3.147348e+15</td>\n",
       "      <td>1.515795e+15</td>\n",
       "      <td>-76.8396</td>\n",
       "      <td>38.9926</td>\n",
       "    </tr>\n",
       "    <tr>\n",
       "      <th>27</th>\n",
       "      <td>2019-06-28</td>\n",
       "      <td>2.835124e+15</td>\n",
       "      <td>2.793778e+14</td>\n",
       "      <td>-76.8396</td>\n",
       "      <td>38.9926</td>\n",
       "    </tr>\n",
       "    <tr>\n",
       "      <th>28</th>\n",
       "      <td>2019-06-29</td>\n",
       "      <td>1.694342e+15</td>\n",
       "      <td>1.760702e+14</td>\n",
       "      <td>-76.8396</td>\n",
       "      <td>38.9926</td>\n",
       "    </tr>\n",
       "    <tr>\n",
       "      <th>29</th>\n",
       "      <td>2019-06-30</td>\n",
       "      <td>1.077041e+15</td>\n",
       "      <td>9.603300e+13</td>\n",
       "      <td>-76.8396</td>\n",
       "      <td>38.9926</td>\n",
       "    </tr>\n",
       "    <tr>\n",
       "      <th>30</th>\n",
       "      <td>2019-07-01</td>\n",
       "      <td>2.178480e+15</td>\n",
       "      <td>1.107547e+14</td>\n",
       "      <td>-76.8396</td>\n",
       "      <td>38.9926</td>\n",
       "    </tr>\n",
       "    <tr>\n",
       "      <th>31</th>\n",
       "      <td>2019-07-02</td>\n",
       "      <td>3.240253e+15</td>\n",
       "      <td>3.866881e+14</td>\n",
       "      <td>-76.8396</td>\n",
       "      <td>38.9926</td>\n",
       "    </tr>\n",
       "    <tr>\n",
       "      <th>32</th>\n",
       "      <td>2019-07-03</td>\n",
       "      <td>1.803550e+15</td>\n",
       "      <td>1.238015e+14</td>\n",
       "      <td>-76.8396</td>\n",
       "      <td>38.9926</td>\n",
       "    </tr>\n",
       "    <tr>\n",
       "      <th>33</th>\n",
       "      <td>2019-07-04</td>\n",
       "      <td>5.867942e+14</td>\n",
       "      <td>5.254365e+14</td>\n",
       "      <td>-76.8396</td>\n",
       "      <td>38.9926</td>\n",
       "    </tr>\n",
       "    <tr>\n",
       "      <th>34</th>\n",
       "      <td>2019-07-05</td>\n",
       "      <td>2.411883e+15</td>\n",
       "      <td>2.642250e+14</td>\n",
       "      <td>-76.8396</td>\n",
       "      <td>38.9926</td>\n",
       "    </tr>\n",
       "    <tr>\n",
       "      <th>35</th>\n",
       "      <td>2019-07-06</td>\n",
       "      <td>2.031238e+15</td>\n",
       "      <td>2.874087e+14</td>\n",
       "      <td>-76.8396</td>\n",
       "      <td>38.9926</td>\n",
       "    </tr>\n",
       "    <tr>\n",
       "      <th>36</th>\n",
       "      <td>2019-07-07</td>\n",
       "      <td>1.810608e+15</td>\n",
       "      <td>1.214973e+14</td>\n",
       "      <td>-76.8396</td>\n",
       "      <td>38.9926</td>\n",
       "    </tr>\n",
       "    <tr>\n",
       "      <th>37</th>\n",
       "      <td>2019-08-12</td>\n",
       "      <td>4.122342e+15</td>\n",
       "      <td>3.162307e+14</td>\n",
       "      <td>-76.8396</td>\n",
       "      <td>38.9926</td>\n",
       "    </tr>\n",
       "    <tr>\n",
       "      <th>38</th>\n",
       "      <td>2019-08-13</td>\n",
       "      <td>2.677993e+15</td>\n",
       "      <td>1.678556e+14</td>\n",
       "      <td>-76.8396</td>\n",
       "      <td>38.9926</td>\n",
       "    </tr>\n",
       "    <tr>\n",
       "      <th>39</th>\n",
       "      <td>2019-08-14</td>\n",
       "      <td>3.910297e+15</td>\n",
       "      <td>7.281137e+14</td>\n",
       "      <td>-76.8396</td>\n",
       "      <td>38.9926</td>\n",
       "    </tr>\n",
       "    <tr>\n",
       "      <th>40</th>\n",
       "      <td>2019-08-15</td>\n",
       "      <td>1.461356e+15</td>\n",
       "      <td>1.797828e+14</td>\n",
       "      <td>-76.8396</td>\n",
       "      <td>38.9926</td>\n",
       "    </tr>\n",
       "    <tr>\n",
       "      <th>41</th>\n",
       "      <td>2019-08-16</td>\n",
       "      <td>1.897257e+15</td>\n",
       "      <td>4.148903e+14</td>\n",
       "      <td>-76.8396</td>\n",
       "      <td>38.9926</td>\n",
       "    </tr>\n",
       "    <tr>\n",
       "      <th>42</th>\n",
       "      <td>2019-08-17</td>\n",
       "      <td>2.178131e+15</td>\n",
       "      <td>2.074928e+14</td>\n",
       "      <td>-76.8396</td>\n",
       "      <td>38.9926</td>\n",
       "    </tr>\n",
       "    <tr>\n",
       "      <th>43</th>\n",
       "      <td>2019-08-18</td>\n",
       "      <td>2.143008e+15</td>\n",
       "      <td>2.337094e+14</td>\n",
       "      <td>-76.8396</td>\n",
       "      <td>38.9926</td>\n",
       "    </tr>\n",
       "    <tr>\n",
       "      <th>44</th>\n",
       "      <td>2019-08-19</td>\n",
       "      <td>2.276862e+15</td>\n",
       "      <td>3.099365e+14</td>\n",
       "      <td>-76.8396</td>\n",
       "      <td>38.9926</td>\n",
       "    </tr>\n",
       "    <tr>\n",
       "      <th>45</th>\n",
       "      <td>2019-08-23</td>\n",
       "      <td>5.372186e+15</td>\n",
       "      <td>1.443611e+15</td>\n",
       "      <td>-76.8396</td>\n",
       "      <td>38.9926</td>\n",
       "    </tr>\n",
       "    <tr>\n",
       "      <th>46</th>\n",
       "      <td>2019-08-24</td>\n",
       "      <td>2.256973e+15</td>\n",
       "      <td>1.915282e+14</td>\n",
       "      <td>-76.8396</td>\n",
       "      <td>38.9926</td>\n",
       "    </tr>\n",
       "    <tr>\n",
       "      <th>47</th>\n",
       "      <td>2019-08-25</td>\n",
       "      <td>1.266131e+15</td>\n",
       "      <td>2.692139e+14</td>\n",
       "      <td>-76.8396</td>\n",
       "      <td>38.9926</td>\n",
       "    </tr>\n",
       "    <tr>\n",
       "      <th>48</th>\n",
       "      <td>2019-08-26</td>\n",
       "      <td>1.392323e+15</td>\n",
       "      <td>1.727886e+14</td>\n",
       "      <td>-76.8396</td>\n",
       "      <td>38.9926</td>\n",
       "    </tr>\n",
       "    <tr>\n",
       "      <th>49</th>\n",
       "      <td>2019-08-27</td>\n",
       "      <td>3.355542e+15</td>\n",
       "      <td>2.985283e+14</td>\n",
       "      <td>-76.8396</td>\n",
       "      <td>38.9926</td>\n",
       "    </tr>\n",
       "  </tbody>\n",
       "</table>\n",
       "</div>"
      ],
      "text/plain": [
       "    timestamp  NO2_trop_col  NO2_uncertainty      lon      lat\n",
       "0  2019-03-28  2.661506e+15     2.067363e+14 -76.8396  38.9926\n",
       "1  2019-03-29  7.395215e+15     4.936494e+14 -76.8396  38.9926\n",
       "2  2019-05-28  2.286707e+15     1.767723e+14 -76.8396  38.9926\n",
       "3  2019-05-30  4.192204e+15     3.701506e+14 -76.8396  38.9926\n",
       "4  2019-06-02  2.253200e+15     1.840973e+14 -76.8396  38.9926\n",
       "5  2019-06-03  2.120484e+15     2.216153e+14 -76.8396  38.9926\n",
       "6  2019-06-05  3.297916e+15     2.695968e+14 -76.8396  38.9926\n",
       "7  2019-06-06  2.362271e+15     2.371608e+14 -76.8396  38.9926\n",
       "8  2019-06-07  1.603983e+15     1.314711e+14 -76.8396  38.9926\n",
       "9  2019-06-08  1.299729e+15     1.083598e+14 -76.8396  38.9926\n",
       "10 2019-06-09  7.182244e+14     8.268145e+13 -76.8396  38.9926\n",
       "11 2019-06-10  2.225085e+15     5.828656e+14 -76.8396  38.9926\n",
       "12 2019-06-11  1.263589e+15     1.099129e+14 -76.8396  38.9926\n",
       "13 2019-06-12  1.353485e+15     9.199631e+13 -76.8396  38.9926\n",
       "14 2019-06-14  1.918781e+15     1.855842e+14 -76.8396  38.9926\n",
       "15 2019-06-15  1.777375e+15     9.479242e+13 -76.8396  38.9926\n",
       "16 2019-06-16  1.636953e+15     1.155744e+14 -76.8396  38.9926\n",
       "17 2019-06-17  7.399246e+15     3.223946e+15 -76.8396  38.9926\n",
       "18 2019-06-18  5.170648e+15     5.106898e+14 -76.8396  38.9926\n",
       "19 2019-06-19  3.617320e+15     5.061186e+14 -76.8396  38.9926\n",
       "20 2019-06-20  2.315495e+15     2.808260e+14 -76.8396  38.9926\n",
       "21 2019-06-21  1.660989e+15     1.587805e+14 -76.8396  38.9926\n",
       "22 2019-06-22  1.379441e+15     1.549353e+14 -76.8396  38.9926\n",
       "23 2019-06-23  1.739069e+15     2.138160e+14 -76.8396  38.9926\n",
       "24 2019-06-24  3.008387e+15     3.096714e+14 -76.8396  38.9926\n",
       "25 2019-06-26  2.715052e+15     3.750623e+14 -76.8396  38.9926\n",
       "26 2019-06-27  3.147348e+15     1.515795e+15 -76.8396  38.9926\n",
       "27 2019-06-28  2.835124e+15     2.793778e+14 -76.8396  38.9926\n",
       "28 2019-06-29  1.694342e+15     1.760702e+14 -76.8396  38.9926\n",
       "29 2019-06-30  1.077041e+15     9.603300e+13 -76.8396  38.9926\n",
       "30 2019-07-01  2.178480e+15     1.107547e+14 -76.8396  38.9926\n",
       "31 2019-07-02  3.240253e+15     3.866881e+14 -76.8396  38.9926\n",
       "32 2019-07-03  1.803550e+15     1.238015e+14 -76.8396  38.9926\n",
       "33 2019-07-04  5.867942e+14     5.254365e+14 -76.8396  38.9926\n",
       "34 2019-07-05  2.411883e+15     2.642250e+14 -76.8396  38.9926\n",
       "35 2019-07-06  2.031238e+15     2.874087e+14 -76.8396  38.9926\n",
       "36 2019-07-07  1.810608e+15     1.214973e+14 -76.8396  38.9926\n",
       "37 2019-08-12  4.122342e+15     3.162307e+14 -76.8396  38.9926\n",
       "38 2019-08-13  2.677993e+15     1.678556e+14 -76.8396  38.9926\n",
       "39 2019-08-14  3.910297e+15     7.281137e+14 -76.8396  38.9926\n",
       "40 2019-08-15  1.461356e+15     1.797828e+14 -76.8396  38.9926\n",
       "41 2019-08-16  1.897257e+15     4.148903e+14 -76.8396  38.9926\n",
       "42 2019-08-17  2.178131e+15     2.074928e+14 -76.8396  38.9926\n",
       "43 2019-08-18  2.143008e+15     2.337094e+14 -76.8396  38.9926\n",
       "44 2019-08-19  2.276862e+15     3.099365e+14 -76.8396  38.9926\n",
       "45 2019-08-23  5.372186e+15     1.443611e+15 -76.8396  38.9926\n",
       "46 2019-08-24  2.256973e+15     1.915282e+14 -76.8396  38.9926\n",
       "47 2019-08-25  1.266131e+15     2.692139e+14 -76.8396  38.9926\n",
       "48 2019-08-26  1.392323e+15     1.727886e+14 -76.8396  38.9926\n",
       "49 2019-08-27  3.355542e+15     2.985283e+14 -76.8396  38.9926"
      ]
     },
     "execution_count": 169,
     "metadata": {},
     "output_type": "execute_result"
    }
   ],
   "source": [
    "Greenbelt_pa_trop = time_process(Greenbelt_pa_trop)\n",
    "Greenbelt_pa_trop = sort_and_avg(Greenbelt_pa_trop,4)\n",
    "Greenbelt_pa_trop"
   ]
  },
  {
   "cell_type": "markdown",
   "id": "e787e820",
   "metadata": {},
   "source": [
    "# Boulder"
   ]
  },
  {
   "cell_type": "code",
   "execution_count": 33,
   "id": "700092cd",
   "metadata": {},
   "outputs": [
    {
     "data": {
      "image/png": "[encoded data removed]",
      "text/plain": [
       "<Figure size 432x288 with 1 Axes>"
      ]
     },
     "metadata": {
      "needs_background": "light"
     },
     "output_type": "display_data"
    }
   ],
   "source": [
    "import matplotlib.pyplot as plt\n",
    "fig, ax = plt.subplots()\n",
    "plt.plot(Boulder_tr['timestamp'], Boulder_tr['NO2_trop_col'],linewidth=1,label='TROPOMI-NO2_trop_col')\n",
    "plt.plot(Boulder_pa['timestamp'], Boulder_pa['NO2_tot_col'],c='y',linewidth=1,label='Pandora-NO2_tot_col')\n",
    "fig.legend(bbox_to_anchor=(1, 0.9),bbox_transform=plt.gcf().transFigure)\n",
    "plt.xlabel('date')\n",
    "plt.ylabel('molecules/cm^2')\n",
    "plt.title('TROPOMI-Pandora data')\n",
    "plt.show()"
   ]
  },
  {
   "cell_type": "markdown",
   "id": "cec7f698",
   "metadata": {},
   "source": [
    "# Changing the datetime object to julian day"
   ]
  },
  {
   "cell_type": "code",
   "execution_count": 62,
   "id": "ede083f4",
   "metadata": {},
   "outputs": [],
   "source": [
    "from scipy import interpolate\n",
    "import astropy\n",
    "from astropy.time import Time"
   ]
  },
  {
   "cell_type": "code",
   "execution_count": 203,
   "id": "96c316d3",
   "metadata": {},
   "outputs": [],
   "source": [
    "Boulder_tr['timestamp'] = Time(Boulder_tr['timestamp']).jd"
   ]
  },
  {
   "cell_type": "code",
   "execution_count": 204,
   "id": "b9a65589",
   "metadata": {},
   "outputs": [],
   "source": [
    "Boulder_pa['timestamp'] = Time(Boulder_pa['timestamp']).jd"
   ]
  },
  {
   "cell_type": "markdown",
   "id": "795ec806",
   "metadata": {},
   "source": [
    "# Interpolating the two dataframes"
   ]
  },
  {
   "cell_type": "code",
   "execution_count": 205,
   "id": "ce4e6cee",
   "metadata": {},
   "outputs": [],
   "source": [
    "##interpolating TROPOMI against Pandora(trop)\n",
    "f_tropomi = interpolate.interp1d(Boulder_tr['timestamp'],Boulder_tr['NO2_trop_col'],bounds_error=False)\n",
    "tropomi_Boulder_interp = f_tropomi(Boulder_pa['timestamp'])"
   ]
  },
  {
   "cell_type": "markdown",
   "id": "c54a6156",
   "metadata": {},
   "source": [
    "# Defining scatter plot function"
   ]
  },
  {
   "cell_type": "code",
   "execution_count": 110,
   "id": "a31c29f4",
   "metadata": {},
   "outputs": [],
   "source": [
    "import matplotlib.lines as mlines\n",
    "import matplotlib.transforms as mtransforms"
   ]
  },
  {
   "cell_type": "code",
   "execution_count": 147,
   "id": "aea20856",
   "metadata": {},
   "outputs": [],
   "source": [
    "def create_scatter_plot(x,y):\n",
    "    # using subplots again allows us to easily plot additional information in the same plot\n",
    "    fig, ax = plt.subplots(num=None, facecolor='w', edgecolor='k')\n",
    "\n",
    "    # compare x and y variables using a scatter plot\n",
    "    ax.scatter(x, y)\n",
    "\n",
    "    # add a red 1 to 1 line\n",
    "    line = mlines.Line2D([0, 1], [0, 1], color='red')\n",
    "    transform = ax.transAxes\n",
    "    line.set_transform(transform)\n",
    "    ax.add_line(line)"
   ]
  },
  {
   "cell_type": "markdown",
   "id": "46410e5c",
   "metadata": {},
   "source": [
    "# Drawing the scatter plot for Pandora(NO2_tot_col) and TROPOMI"
   ]
  },
  {
   "cell_type": "code",
   "execution_count": 206,
   "id": "eb257434",
   "metadata": {},
   "outputs": [
    {
     "data": {
      "image/png": "[encoded data removed]",
      "text/plain": [
       "<Figure size 432x288 with 1 Axes>"
      ]
     },
     "metadata": {},
     "output_type": "display_data"
    }
   ],
   "source": [
    "create_scatter_plot(tropomi_Boulder_interp,Boulder_pa['NO2_tot_col'])"
   ]
  },
  {
   "cell_type": "markdown",
   "id": "687dc39b",
   "metadata": {},
   "source": [
    "# Calculating R^2"
   ]
  },
  {
   "cell_type": "code",
   "execution_count": 190,
   "id": "9b1c7f99",
   "metadata": {},
   "outputs": [],
   "source": [
    "from sklearn.metrics import r2_score"
   ]
  },
  {
   "cell_type": "code",
   "execution_count": 207,
   "id": "8ed44549",
   "metadata": {},
   "outputs": [
    {
     "name": "stdout",
     "output_type": "stream",
     "text": [
      "-0.7078706420895535\n"
     ]
    }
   ],
   "source": [
    "# calculate the 'r squared' between pandora_tot and interpolated TROPOMI\n",
    "print(r2_score(tropomi_Boulder_interp,Boulder_pa['NO2_tot_col']))"
   ]
  },
  {
   "cell_type": "markdown",
   "id": "5dd38702",
   "metadata": {},
   "source": [
    "# Linear regression"
   ]
  },
  {
   "cell_type": "code",
   "execution_count": 208,
   "id": "30dc5b2d",
   "metadata": {},
   "outputs": [
    {
     "name": "stdout",
     "output_type": "stream",
     "text": [
      "0.3175757655530394 5504413700597593.0\n"
     ]
    },
    {
     "data": {
      "image/png": "[encoded data removed]",
      "text/plain": [
       "<Figure size 432x288 with 1 Axes>"
      ]
     },
     "metadata": {
      "needs_background": "light"
     },
     "output_type": "display_data"
    }
   ],
   "source": [
    "#TROPOMI and Pandora(NO2_tot_col)\n",
    "m, b = np.polyfit(tropomi_Boulder_interp,Boulder_pa['NO2_tot_col'], 1)\n",
    "print(m,b)\n",
    "\n",
    "# plot the original data points as well as the line of best fit\n",
    "plt.plot(tropomi_Boulder_interp,Boulder_pa['NO2_tot_col'],\".\")\n",
    "plt.plot(tropomi_Boulder_interp, b + m * tropomi_Boulder_interp, '-')\n",
    "plt.show()"
   ]
  },
  {
   "cell_type": "markdown",
   "id": "5a858c3f",
   "metadata": {},
   "source": [
    "# Greenbelt"
   ]
  },
  {
   "cell_type": "markdown",
   "id": "5e2bce1d",
   "metadata": {},
   "source": [
    "# Drawing plots containing data from both Pandora and TROPOMI"
   ]
  },
  {
   "cell_type": "code",
   "execution_count": 202,
   "id": "6095d8f1",
   "metadata": {},
   "outputs": [
    {
     "data": {
      "image/png": "[encoded data removed]",
      "text/plain": [
       "<Figure size 432x288 with 1 Axes>"
      ]
     },
     "metadata": {
      "needs_background": "light"
     },
     "output_type": "display_data"
    }
   ],
   "source": [
    "import matplotlib.pyplot as plt\n",
    "fig, ax = plt.subplots()\n",
    "plt.plot(Greenbelt_tr['timestamp'], Greenbelt_tr['NO2_trop_col'],linewidth=1,label='TROPOMI-NO2_trop_col')\n",
    "plt.plot(Greenbelt_pa['timestamp'], Greenbelt_pa['NO2_tot_col'],c='y',linewidth=1,label='Pandora-NO2_tot_col')\n",
    "fig.legend(bbox_to_anchor=(1, 0.9),bbox_transform=plt.gcf().transFigure)\n",
    "plt.xlabel('date')\n",
    "plt.ylabel('molecules/cm^2')\n",
    "plt.title('TROPOMI-Pandora data')\n",
    "plt.show()"
   ]
  },
  {
   "cell_type": "code",
   "execution_count": 61,
   "id": "5cd937f3",
   "metadata": {},
   "outputs": [
    {
     "data": {
      "image/png": "[encoded data removed]",
      "text/plain": [
       "<Figure size 432x288 with 1 Axes>"
      ]
     },
     "metadata": {
      "needs_background": "light"
     },
     "output_type": "display_data"
    }
   ],
   "source": [
    "import matplotlib.pyplot as plt\n",
    "fig, ax = plt.subplots()\n",
    "plt.plot(Greenbelt_tr['timestamp'], Greenbelt_tr['NO2_trop_col'],linewidth=1,label='TROPOMI')\n",
    "plt.plot(Greenbelt_pa_trop['timestamp'], Greenbelt_pa_trop['NO2_trop_col'],c='y',linewidth=1,label='Pandora')\n",
    "fig.legend(bbox_to_anchor=(1, 0.9),bbox_transform=plt.gcf().transFigure)\n",
    "plt.xlabel('date')\n",
    "plt.ylabel('NO2-trop-col molecules/cm^2')\n",
    "plt.title('TROPOMI-Pandora data')\n",
    "plt.show()"
   ]
  },
  {
   "cell_type": "markdown",
   "id": "50f0a308",
   "metadata": {},
   "source": [
    "# Changing the datetime object to julian day"
   ]
  },
  {
   "cell_type": "code",
   "execution_count": 170,
   "id": "98085e0b",
   "metadata": {},
   "outputs": [],
   "source": [
    "Greenbelt_tr['timestamp'] = Time(Greenbelt_tr['timestamp']).jd"
   ]
  },
  {
   "cell_type": "code",
   "execution_count": 171,
   "id": "8933cd57",
   "metadata": {},
   "outputs": [],
   "source": [
    "Greenbelt_pa_trop['timestamp'] = Time(Greenbelt_pa_trop['timestamp']).jd"
   ]
  },
  {
   "cell_type": "code",
   "execution_count": 172,
   "id": "f65b3be8",
   "metadata": {},
   "outputs": [],
   "source": [
    "Greenbelt_pa['timestamp'] = Time(Greenbelt_pa['timestamp']).jd"
   ]
  },
  {
   "cell_type": "code",
   "execution_count": 173,
   "id": "b6045e7b",
   "metadata": {},
   "outputs": [
    {
     "data": {
      "text/plain": [
       "77     2.458486e+06\n",
       "143    2.458487e+06\n",
       "3      2.458488e+06\n",
       "18     2.458490e+06\n",
       "98     2.458492e+06\n",
       "           ...     \n",
       "43     2.458841e+06\n",
       "45     2.458842e+06\n",
       "137    2.458844e+06\n",
       "172    2.458845e+06\n",
       "12     2.458846e+06\n",
       "Name: timestamp, Length: 228, dtype: float64"
      ]
     },
     "execution_count": 173,
     "metadata": {},
     "output_type": "execute_result"
    }
   ],
   "source": [
    "Greenbelt_tr['timestamp']"
   ]
  },
  {
   "cell_type": "markdown",
   "id": "d519f662",
   "metadata": {},
   "source": [
    "# Interpolating the two dataframes"
   ]
  },
  {
   "cell_type": "code",
   "execution_count": 174,
   "id": "2a5d6f19",
   "metadata": {},
   "outputs": [],
   "source": [
    "##interpolating TROPOMI against Pandora(trop)\n",
    "f_tropomi = interpolate.interp1d(Greenbelt_tr['timestamp'],Greenbelt_tr['NO2_trop_col'],bounds_error=False)\n",
    "tropomi_Greenbelt_interp = f_tropomi(Greenbelt_pa_trop['timestamp'])"
   ]
  },
  {
   "cell_type": "code",
   "execution_count": 175,
   "id": "0829f4b5",
   "metadata": {},
   "outputs": [],
   "source": [
    "##interpolating TROPOMI against Pandora(tot)\n",
    "f_tropomi = interpolate.interp1d(Greenbelt_tr['timestamp'],Greenbelt_tr['NO2_trop_col'],bounds_error=False)\n",
    "tropomi_Greenbelt_interp_2 = f_tropomi(Greenbelt_pa['timestamp'])"
   ]
  },
  {
   "cell_type": "markdown",
   "id": "0141c43f",
   "metadata": {},
   "source": [
    "# Drawing the scatter plot for Pandora(NO2_trop_col) and TROPOMI"
   ]
  },
  {
   "cell_type": "code",
   "execution_count": 176,
   "id": "24a39ba7",
   "metadata": {},
   "outputs": [
    {
     "data": {
      "image/png": "[encoded data removed]",
      "text/plain": [
       "<Figure size 432x288 with 1 Axes>"
      ]
     },
     "metadata": {},
     "output_type": "display_data"
    }
   ],
   "source": [
    "create_scatter_plot(tropomi_Greenbelt_interp,Greenbelt_pa_trop['NO2_trop_col'])"
   ]
  },
  {
   "cell_type": "markdown",
   "id": "a4b1a0a7",
   "metadata": {},
   "source": [
    "# Drawing the scatter plot for Pandora(NO2_tot_col) and TROPOMI"
   ]
  },
  {
   "cell_type": "code",
   "execution_count": 187,
   "id": "7324fced",
   "metadata": {},
   "outputs": [
    {
     "data": {
      "image/png": "[encoded data removed]",
      "text/plain": [
       "<Figure size 432x288 with 1 Axes>"
      ]
     },
     "metadata": {},
     "output_type": "display_data"
    }
   ],
   "source": [
    "create_scatter_plot(tropomi_Greenbelt_interp_2,Greenbelt_pa['NO2_tot_col'])"
   ]
  },
  {
   "cell_type": "markdown",
   "id": "6118253c",
   "metadata": {},
   "source": [
    "# Removing the NaN in data"
   ]
  },
  {
   "cell_type": "code",
   "execution_count": 178,
   "id": "c6f0fcf3",
   "metadata": {},
   "outputs": [],
   "source": [
    "r2 = pd.DataFrame(tropomi_Greenbelt_interp_2)"
   ]
  },
  {
   "cell_type": "code",
   "execution_count": 179,
   "id": "d7b38b62",
   "metadata": {},
   "outputs": [],
   "source": [
    "r2['2']=Greenbelt_pa['NO2_tot_col']"
   ]
  },
  {
   "cell_type": "code",
   "execution_count": 180,
   "id": "b903c46d",
   "metadata": {},
   "outputs": [],
   "source": [
    "r2 = r2.dropna()"
   ]
  },
  {
   "cell_type": "code",
   "execution_count": 181,
   "id": "6b4ed231",
   "metadata": {},
   "outputs": [
    {
     "data": {
      "text/plain": [
       "0      4.181767e+15\n",
       "1      8.033237e+15\n",
       "2      7.924072e+15\n",
       "3      9.179150e+15\n",
       "4      1.376784e+16\n",
       "           ...     \n",
       "295    1.035001e+16\n",
       "296    6.950313e+15\n",
       "297    4.186195e+15\n",
       "298    3.411146e+15\n",
       "299    1.134969e+16\n",
       "Name: NO2_tot_col, Length: 300, dtype: float64"
      ]
     },
     "execution_count": 181,
     "metadata": {},
     "output_type": "execute_result"
    }
   ],
   "source": [
    "Greenbelt_pa['NO2_tot_col']"
   ]
  },
  {
   "cell_type": "markdown",
   "id": "c5c4d990",
   "metadata": {},
   "source": [
    "# Calculating R squares"
   ]
  },
  {
   "cell_type": "code",
   "execution_count": 190,
   "id": "3e7dd021",
   "metadata": {},
   "outputs": [],
   "source": [
    "from sklearn.metrics import r2_score"
   ]
  },
  {
   "cell_type": "code",
   "execution_count": 191,
   "id": "5b457ed7",
   "metadata": {},
   "outputs": [
    {
     "name": "stdout",
     "output_type": "stream",
     "text": [
      "-0.4208812754794886\n"
     ]
    }
   ],
   "source": [
    "# calculate the 'r squared' between pandora_tot and interpolated TROPOMI\n",
    "print(r2_score(r2[0],r2['2'],))"
   ]
  },
  {
   "cell_type": "code",
   "execution_count": 192,
   "id": "21e532d5",
   "metadata": {},
   "outputs": [
    {
     "name": "stdout",
     "output_type": "stream",
     "text": [
      "-0.6159045430440615\n"
     ]
    }
   ],
   "source": [
    "# calculate the 'r squared' between pandora_trop and interpolated TROPOMI\n",
    "print(r2_score(Greenbelt_pa_trop['NO2_trop_col'],tropomi_Greenbelt_interp))"
   ]
  },
  {
   "cell_type": "markdown",
   "id": "104a1e8e",
   "metadata": {},
   "source": [
    "# Linear regression"
   ]
  },
  {
   "cell_type": "code",
   "execution_count": 201,
   "id": "6527d4c4",
   "metadata": {},
   "outputs": [
    {
     "name": "stdout",
     "output_type": "stream",
     "text": [
      "0.2621568138744528 5716834395713867.0\n"
     ]
    },
    {
     "data": {
      "image/png": "[encoded data removed]",
      "text/plain": [
       "<Figure size 432x288 with 1 Axes>"
      ]
     },
     "metadata": {
      "needs_background": "light"
     },
     "output_type": "display_data"
    }
   ],
   "source": [
    "#TROPOMI and Pandora(NO2_tot_col)\n",
    "m, b = np.polyfit(r2[0],r2['2'], 1)\n",
    "print(m,b)\n",
    "\n",
    "# plot the original data points as well as the line of best fit\n",
    "plt.plot(r2[0],r2['2'],\".\")\n",
    "plt.plot(r2[0], b + m * r2[0], '-')\n",
    "plt.show()"
   ]
  },
  {
   "cell_type": "code",
   "execution_count": 199,
   "id": "b8c0a18d",
   "metadata": {},
   "outputs": [
    {
     "name": "stdout",
     "output_type": "stream",
     "text": [
      "0.2132971641123515 1868114975554046.8\n"
     ]
    },
    {
     "data": {
      "image/png": "[encoded data removed]",
      "text/plain": [
       "<Figure size 432x288 with 1 Axes>"
      ]
     },
     "metadata": {
      "needs_background": "light"
     },
     "output_type": "display_data"
    }
   ],
   "source": [
    "#TROPOMI and Pandora(NO2_trop_col)\n",
    "m, b = np.polyfit(tropomi_Greenbelt_interp, Greenbelt_pa_trop['NO2_trop_col'], 1)\n",
    "print(m,b)\n",
    "# plot the original data points as well as the line of best fit\n",
    "plt.plot(tropomi_Greenbelt_interp, Greenbelt_pa_trop['NO2_trop_col'],\".\")\n",
    "plt.plot(tropomi_Greenbelt_interp, b + m * tropomi_Greenbelt_interp, '-')\n",
    "plt.show()"
   ]
  },
  {
   "cell_type": "code",
   "execution_count": null,
   "id": "dcdfbda6",
   "metadata": {},
   "outputs": [],
   "source": []
  }
 ],
 "metadata": {
  "kernelspec": {
   "display_name": "Python 3 (ipykernel)",
   "language": "python",
   "name": "python3"
  },
  "language_info": {
   "codemirror_mode": {
    "name": "ipython",
    "version": 3
   },
   "file_extension": ".py",
   "mimetype": "text/x-python",
   "name": "python",
   "nbconvert_exporter": "python",
   "pygments_lexer": "ipython3",
   "version": "3.8.0"
  }
 },
 "nbformat": 4,
 "nbformat_minor": 5
}
