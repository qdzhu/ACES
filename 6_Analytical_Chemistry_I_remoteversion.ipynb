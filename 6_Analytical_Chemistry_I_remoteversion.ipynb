{
 "cells": [
  {
   "cell_type": "markdown",
   "metadata": {},
   "source": [
    "# Exploratory Activity 6: Analytical Chemistry I"
   ]
  },
  {
   "cell_type": "markdown",
   "metadata": {},
   "source": [
    "**Specrophotometry Lab simulation procedures** \n",
    "\n",
    "1. Go to https://web.mst.edu/~gbert/ColorScan/AColor.htm. \n",
    "2. Fill the squirt bottle with a 10:90 solution of Red #40:DI water by adjusting the arrows. Fill a cuvette by clicking on the bottle. Measure the absorbance spectrum by clicking on the filled cuvette. \n",
    "3. Repeat step 2 for Blue #1.\n",
    "4. Click on \"view graph of Absorbance\" to see the absorbance spectrum of each dye. Pick two wavelengths at least 50 nm apart where both dyes have non-zero absorptions. \n",
    "5. Contruct a calibration curve with 5-10 different concentrations of Red #40. Calculate the concentration in ppm and record the absorbance each of the two selected wavelengths. You can see absorbance data by clicking on \"view data for Absorbance\". Note you will only be able to see three concentrations at a time before dumping your data. \n",
    "6. Repeat step 5 for Blue #1."
   ]
  },
  {
   "cell_type": "markdown",
   "metadata": {},
   "source": [
    "**Question 6.1.1** Recall from lecture that the absorbance is related to the molarity of an absorbing substance by Beer's law: A = $\\epsilon$*c* *l*, where *c* is the concentration in mol/L, *l* is the pathlength in cm, and $\\epsilon$ is the molar absorptivity. What are the units of $\\epsilon$?"
   ]
  },
  {
   "cell_type": "raw",
   "metadata": {},
   "source": [
    "L/mol/cm"
   ]
  },
  {
   "cell_type": "markdown",
   "metadata": {},
   "source": [
    "**Question 6.1.2** Convert your measurements in ppm for the Red #40 solution to molarity (molar mass of Red #40 is 496.42 g/mol). 1 ppm is equal to 1 mg/L. \n"
   ]
  },
  {
   "cell_type": "code",
   "execution_count": 2,
   "metadata": {},
   "outputs": [],
   "source": [
    "ppm_dat = [10*13/100, 20*13/100, 30*13/100, 40*13/100, 50*13/100, 60*13/100, 70*13/100, 80*13/100, 90*13/100, 100*13/100]\n",
    "ppm_dat\n",
    "\n",
    "molarity = [];\n",
    "for ppm in ppm_dat:\n",
    "    molarity.append(ppm/496.42e3)\n"
   ]
  },
  {
   "cell_type": "markdown",
   "metadata": {},
   "source": [
    "**Question 6.2** Input the data you obtained into the code below. Then run the code to plot the calibration curves of absorbance vs. molarity for both wavelengths. The code also adds best fit lines to the plot using a linear regression technique similar to that used in Exploratory Activity 2."
   ]
  },
  {
   "cell_type": "code",
   "execution_count": 3,
   "metadata": {},
   "outputs": [
    {
     "data": {
      "text/plain": [
       "[<matplotlib.lines.Line2D at 0x1a5d54269c8>]"
      ]
     },
     "execution_count": 3,
     "metadata": {},
     "output_type": "execute_result"
    },
    {
     "data": {
      "image/png": "[encoded data removed]",
      "text/plain": [
       "<Figure size 432x288 with 1 Axes>"
      ]
     },
     "metadata": {},
     "output_type": "display_data"
    }
   ],
   "source": [
    "# first import the necessary libraries\n",
    "import matplotlib.pyplot as plt\n",
    "import numpy as np\n",
    "\n",
    "## ENTER YOUR MEASURED ABSORBANCES HERE\n",
    "Abs1 = [0.093,0.185,0.278,0.371,0.464,0.514, 0.599,0.685,0.770,0.856]\n",
    "Abs2 = [0.003,0.006,0.008,0.011,0.014,0.015,0.018,0.021,0.023,0.026]\n",
    "\n",
    "\n",
    "# using subplots again allows us to easily plot additional information in the same plot\n",
    "fig, ax = plt.subplots(num=None, facecolor='w', edgecolor='k')\n",
    "\n",
    "# compare molarity and absorbance variables using a scatter plot\n",
    "ax.scatter(molarity, Abs1)\n",
    "ax.scatter(molarity, Abs2)\n",
    "plt.xlim(0,3e-5)\n",
    "# find the lines of best fit through the data with polyfit\n",
    "# line is an array containing b (the y-intercept) and m (the slope)\n",
    "# cov is the covariance matrix, which will be used in the next question\n",
    "line1, cov1 = np.polyfit(molarity, Abs1, 1, cov=True)\n",
    "line2, cov2 = np.polyfit(molarity, Abs2, 1, cov=True)\n",
    "\n",
    "# add the lines of best fit to the scatter plot\n",
    "ax.plot(molarity, line1[1] + [conc * line1[0] for conc in molarity], '-')\n",
    "ax.plot(molarity, line2[1] + [conc * line2[0] for conc in molarity], '-')"
   ]
  },
  {
   "cell_type": "markdown",
   "metadata": {},
   "source": [
    "**Question 6.3** Based on the calibration slopes derived above, what is the molar absorptivity of your assigned dye at each of the wavelengths of interest? Assume the length of the cuvette is 1 cm. "
   ]
  },
  {
   "cell_type": "code",
   "execution_count": 25,
   "metadata": {},
   "outputs": [
    {
     "data": {
      "text/plain": [
       "955.811002331002"
      ]
     },
     "execution_count": 25,
     "metadata": {},
     "output_type": "execute_result"
    }
   ],
   "source": [
    "## ENTER THE MOLAR ABSORPTIVITIES (EPSILON) HERE\n",
    "epsilon1 = line1[0]\n",
    "epsilon2 = line2[0]\n"
   ]
  },
  {
   "cell_type": "markdown",
   "metadata": {},
   "source": [
    "**Question 6.4** The code below uses the covariance matrices of the best fit lines to calculate the standard deviation of the slopes, which could be interpreted as the error in the molar absorptivities. "
   ]
  },
  {
   "cell_type": "code",
   "execution_count": 23,
   "metadata": {},
   "outputs": [
    {
     "name": "stdout",
     "output_type": "stream",
     "text": [
      "514.0587360199243 18.943463044349354\n"
     ]
    }
   ],
   "source": [
    "# take the square root of the first element of the first row of each matrix\n",
    "stdev1 = np.sqrt(cov1[0][0])\n",
    "stdev2 = np.sqrt(cov2[0][0])\n",
    "\n",
    "# display the standard deviations\n",
    "print(stdev1, stdev2)"
   ]
  },
  {
   "cell_type": "raw",
   "metadata": {},
   "source": [
    "[Enter your answer here.]"
   ]
  },
  {
   "cell_type": "markdown",
   "metadata": {},
   "source": [
    "**Question 6.5** Repeat the above for the Blue #1 solution (molar mass 791.84 g/mol)"
   ]
  },
  {
   "cell_type": "code",
   "execution_count": 37,
   "metadata": {},
   "outputs": [
    {
     "data": {
      "text/plain": [
       "{conc_dye1: 2.21478432204038e-5, conc_dye2: 2.32814448919662e-5}"
      ]
     },
     "execution_count": 37,
     "metadata": {},
     "output_type": "execute_result"
    },
    {
     "data": {
      "image/png": "[encoded data removed]",
      "text/plain": [
       "<Figure size 432x288 with 1 Axes>"
      ]
     },
     "metadata": {},
     "output_type": "display_data"
    }
   ],
   "source": [
    "ppm_dat = [10*9/100, 20*9/100, 30*9/100, 40*9/100, 50*9/100, 60*9/100, 70*9/100, 80*9/100, 90*9/100, 100*9/100]\n",
    "ppm_dat\n",
    "\n",
    "molarity = [];\n",
    "for ppm in ppm_dat:\n",
    "    molarity.append(ppm/496.42e3)\n",
    "\n",
    "Abs1 = [0.003,0.005,0.008,0.011,0.014,0.017,0.020,0.022,0.025,0.028]\n",
    "Abs2 = [0.035,0.058,0.104,0.138,0.173,0.207,0.242,0.276,0.311,0.345]\n",
    "\n",
    "fig, ax = plt.subplots(num=None, facecolor='w', edgecolor='k')\n",
    "\n",
    "# compare molarity and absorbance variables using a scatter plot\n",
    "ax.scatter(molarity, Abs1)\n",
    "ax.scatter(molarity, Abs2)\n",
    "ax.ticklabel_format(style = 'sci', scilimits = (0,0))\n",
    "plt.xlim(0,2e-5)\n",
    "# find the lines of best fit through the data with polyfit\n",
    "# line is an array containing b (the y-intercept) and m (the slope)\n",
    "# cov is the covariance matrix, which will be used in the next question\n",
    "line1, cov1 = np.polyfit(molarity, Abs1, 1, cov=True)\n",
    "line2, cov2 = np.polyfit(molarity, Abs2, 1, cov=True)\n",
    "\n",
    "# add the lines of best fit to the scatter plot\n",
    "ax.plot(molarity, line1[1] + [conc * line1[0] for conc in molarity], '-')\n",
    "ax.plot(molarity, line2[1] + [conc * line2[0] for conc in molarity], '-')\n",
    "\n",
    "epsilon1_dye2 = line1[0]\n",
    "epsilon2_dye2 = line2[0]\n",
    "\n",
    "\n",
    "from sympy import Eq, Symbol as sym, solve\n",
    "conc_dye1 = sym('conc_dye1')\n",
    "conc_dye2 = sym('conc_dye2')\n",
    "\n",
    "unknown_Abs1 = Eq((epsilon1 * conc_dye1) + (epsilon1_dye2 * conc_dye2),0.74)\n",
    "unknown_Abs2 = Eq((epsilon2 * conc_dye1) + (epsilon2_dye2 * conc_dye2),0.47)\n",
    "\n",
    "sol = solve((unknown_Abs1,unknown_Abs2),(conc_dye1,conc_dye2))\n",
    "sol"
   ]
  },
  {
   "cell_type": "markdown",
   "metadata": {},
   "source": [
    "**Question 6.6** Use your answers to Questions 6.3-5 to calculate the concentrations (and uncertainties!) of Red #40 and Blue #1 in an unknown sports drink sample. Imagine that for your shorter wavelength you measure an absorbance of 0.74 and for your longer wavelength you measure an absorbance of 0.47. You may assume for the purposes of this question that the standard deviations from the covariance matrices give reasonable estimates of the uncertainties in the molar absorptivities and that the absorbances are known to arbitrary precision.\n",
    "\n",
    "Check your answers with your partner and intructor."
   ]
  },
  {
   "cell_type": "code",
   "execution_count": null,
   "metadata": {},
   "outputs": [],
   "source": [
    "# students will need to solve the system of equations below by substituting\n",
    "# the observed absorbances of their unknown for unknown_Abs1 and unknown_Abs2\n",
    "# and solving for conc_dye1 and conc_dye2\n",
    "unknown_Abs1 = (epsilon1 * conc_dye1) + (epsilon1_dye2 * conc_dye2)\n",
    "unknown_Abs2 = (epsilon2 * conc_dye1) + (epsilon2_dye2 * conc_dye2)\n",
    "\n",
    "# they should propagate the error in the epsilon values corresponding to\n",
    "# any calculations they perform in solving for conc_dye1 and conc_dye2"
   ]
  },
  {
   "cell_type": "markdown",
   "metadata": {},
   "source": [
    "**Question 6.7** How would your answers to Question 6.6 be different (higher or lower) if you had used an empty cuvette instead of one filled with water to \"blank\" the spectrophotometer?\n"
   ]
  },
  {
   "cell_type": "raw",
   "metadata": {},
   "source": [
    "[Enter your answer here.]"
   ]
  },
  {
   "cell_type": "markdown",
   "metadata": {},
   "source": [
    "**Question 6.8** Atmospheric scientists rarely worry about dye concentrations in sports drinks. How might the concepts in this experiment be relevant to atmospheric science? Be specific.\n"
   ]
  },
  {
   "cell_type": "raw",
   "metadata": {},
   "source": [
    "[Enter your answer here.]"
   ]
  }
 ],
 "metadata": {
  "kernelspec": {
   "display_name": "Python 3",
   "language": "python",
   "name": "python3"
  },
  "language_info": {
   "codemirror_mode": {
    "name": "ipython",
    "version": 3
   },
   "file_extension": ".py",
   "mimetype": "text/x-python",
   "name": "python",
   "nbconvert_exporter": "python",
   "pygments_lexer": "ipython3",
   "version": "3.7.4"
  }
 },
 "nbformat": 4,
 "nbformat_minor": 2
}
